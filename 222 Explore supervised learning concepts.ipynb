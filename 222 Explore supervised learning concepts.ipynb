{
 "metadata": {
  "name": "222 Explore supervised learning concepts"
 },
 "nbformat": 3,
 "nbformat_minor": 0,
 "worksheets": [
  {
   "cells": [
    {
     "cell_type": "markdown",
     "metadata": {},
     "source": [
      "For a review of supervised learning concepts, please see the [documentation](http://scikit-learn.org/dev/tutorial/statistical_inference/supervised_learning.html)."
     ]
    },
    {
     "cell_type": "markdown",
     "metadata": {},
     "source": [
      "- Classification\n",
      "- Regression"
     ]
    },
    {
     "cell_type": "markdown",
     "metadata": {},
     "source": [
      "- Hyper parameters\n",
      "- Estimated parameters"
     ]
    },
    {
     "cell_type": "markdown",
     "metadata": {},
     "source": [
      "- Loss function\n",
      "- Gradient descent\n",
      "- Overfitting\n",
      "- Regularization"
     ]
    },
    {
     "cell_type": "markdown",
     "metadata": {},
     "source": [
      "- Feature selection\n",
      "- Feature extraction"
     ]
    }
   ],
   "metadata": {}
  }
 ]
}