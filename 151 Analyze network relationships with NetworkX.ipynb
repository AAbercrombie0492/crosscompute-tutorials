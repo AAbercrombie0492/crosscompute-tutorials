{
 "metadata": {
  "name": "151 Analyze network relationships with NetworkX"
 },
 "nbformat": 3,
 "worksheets": [
  {
   "cells": [
    {
     "cell_type": "markdown",
     "source": [
      "# NetworkX is for network relationship analysis"
     ]
    },
    {
     "cell_type": "markdown",
     "source": [
      "## Overview",
      "",
      "[NetworkX](http://networkx.lanl.gov)",
      "is a package for creating, analyzing, visualizing networks or graphs.",
      "A graph is a general mathematical concept that can be used to represent",
      "nodes and edges for moving from one node to another node.",
      "The strength of NetworkX is in its simplicity and its",
      "[algorithms](http://networkx.lanl.gov/reference/algorithms.html)."
     ]
    },
    {
     "cell_type": "markdown",
     "source": [
      "## Usage"
     ]
    },
    {
     "cell_type": "code",
     "input": [
      "import networkx as nx"
     ],
     "language": "python",
     "outputs": []
    },
    {
     "cell_type": "markdown",
     "source": [
      "Make a graph."
     ]
    },
    {
     "cell_type": "code",
     "input": [
      "# Make a graph where edges do not have direction.",
      "# Example: ",
      "graph = nx.Graph()"
     ],
     "language": "python",
     "outputs": []
    },
    {
     "cell_type": "code",
     "input": [
      "# Make a graph where edges have direction.",
      "# Example: ",
      "diGraph = nx.DiGraph()"
     ],
     "language": "python",
     "outputs": []
    },
    {
     "cell_type": "code",
     "input": [
      "# Make a graph where two nodes can have multiple connecting edges without direction.",
      "# Example:",
      "multiGraph = nx.MultiGraph()"
     ],
     "language": "python",
     "outputs": []
    },
    {
     "cell_type": "code",
     "input": [
      "# Make a graph where two nodes can have multiple connecting edges with direction.",
      "# Example: Cities and the one-way highways connecting them, where",
      "#          two cities can be connected by more than two highways",
      "multiDiGraph = nx.MultiDiGraph()"
     ],
     "language": "python",
     "outputs": []
    },
    {
     "cell_type": "code",
     "input": [
      "# Generate a random graph.",
      "degree = 2",
      "nodeCount = 10",
      "randomGraph = nx.random_regular_graph(degree, nodeCount)"
     ],
     "language": "python",
     "outputs": []
    },
    {
     "cell_type": "markdown",
     "source": [
      "Add nodes, see nodes, draw nodes."
     ]
    },
    {
     "cell_type": "code",
     "input": [
      "graph = nx.Graph()",
      "# Add single nodes",
      "graph.add_node(100)",
      "graph.add_node('lettuce')",
      "# Add multiple nodes",
      "graph.add_nodes_from(['carrot', 'zucchini'])",
      "# List nodes",
      "graph.nodes()"
     ],
     "language": "python",
     "outputs": []
    },
    {
     "cell_type": "code",
     "input": [
      "# Print the first three letters of each node using the nodes_iter() iterator,",
      "# which is more efficient than nodes() because it does not create an itermediate list",
      "[str(node)[:3] for node in graph.nodes_iter()]"
     ],
     "language": "python",
     "outputs": []
    },
    {
     "cell_type": "code",
     "input": [
      "# Draw graph",
      "nx.draw(graph)"
     ],
     "language": "python",
     "outputs": []
    },
    {
     "cell_type": "markdown",
     "source": [
      "Add edges, see edges, draw edges."
     ]
    },
    {
     "cell_type": "code",
     "input": [
      "graph = nx.Graph()",
      "# Add single edges",
      "graph.add_edge('City Hall', 'Union Square')",
      "graph.add_edge('Union Square', 'Grand Central')",
      "graph.add_edge('Grand Central', 'Times Square')",
      "# Add multiple edges",
      "graph.add_edges_from([",
      "    ('Penn Station', 'Times Square'),",
      "    ('Times Square', '72nd Street and Broadway'),",
      "    ('72nd Street and Broadway', '96th Street and Broadway'),",
      "])",
      "# List nodes",
      "graph.nodes()"
     ],
     "language": "python",
     "outputs": [
      {
       "output_type": "pyout",
       "prompt_number": 57,
       "text": [
        "['72nd Street and Broadway',",
        " 'Grand Central',",
        " '96th Street and Broadway',",
        " 'Union Square',",
        " 'City Hall',",
        " 'Penn Station',",
        " 'Times Square']"
       ]
      }
     ],
     "prompt_number": 57
    },
    {
     "cell_type": "code",
     "input": [
      "# List edges",
      "graph.edges()"
     ],
     "language": "python",
     "outputs": []
    },
    {
     "cell_type": "code",
     "input": [
      "# List edges using the first three letters of each node using the edges_iter() iterator,",
      "# which is more efficient than edges() because it does not create an itermediate list",
      "[(node1[:3], node2[:3]) for node1, node2 in graph.edges_iter()]"
     ],
     "language": "python",
     "outputs": []
    },
    {
     "cell_type": "code",
     "input": [
      "# Draw graph",
      "nx.draw(graph)"
     ],
     "language": "python",
     "outputs": []
    },
    {
     "cell_type": "markdown",
     "source": [
      "Add attributes."
     ]
    },
    {
     "cell_type": "code",
     "input": [
      "# Add graph attributes",
      "graph = nx.Graph(name='phone records')",
      "graph.graph['startIndex'] = 500",
      "graph.graph['endIndex'] = 10000",
      "graph.graph"
     ],
     "language": "python",
     "outputs": []
    },
    {
     "cell_type": "code",
     "input": [
      "# Add node attributes",
      "graph.add_node('18008662453', name='TMobile customer service')",
      "graph.add_node('18883336651', name='AT&T customer service')",
      "graph.add_node('18009220204', name='Verizon customer service')",
      "graph.add_node('18668667509', name='Sprint customer service')",
      "graph.node['18008662453']['name'] = 'T-Mobile customer service'",
      "graph.node['18008662453']"
     ],
     "language": "python",
     "outputs": []
    },
    {
     "cell_type": "code",
     "input": [
      "# Look at nodes and their attributes",
      "graph.nodes(data=True)"
     ],
     "language": "python",
     "outputs": []
    },
    {
     "cell_type": "code",
     "input": [
      "# Add attributes to an edge",
      "graph.add_edge('18883336651', '18009220204', weight=0.5, confidence=0.9)",
      "graph.add_edge('18009220204', '18668667509', weight=0.3, confidence=0.4)",
      "graph.edge['18883336651']['18009220204']['weight'] = 1.0",
      "graph.edge['18883336651']['18009220204']"
     ],
     "language": "python",
     "outputs": []
    },
    {
     "cell_type": "code",
     "input": [
      "# Look at edges and their attributes",
      "graph.edges(data=True)"
     ],
     "language": "python",
     "outputs": []
    },
    {
     "cell_type": "code",
     "input": [
      "nx.draw_circular(graph)"
     ],
     "language": "python",
     "outputs": []
    },
    {
     "cell_type": "markdown",
     "source": [
      "Analyze a graph with an algorithm."
     ]
    },
    {
     "cell_type": "code",
     "input": [
      "graph = nx.Graph()",
      "graph.add_edge('City Hall', 'Union Square', duration=10)",
      "graph.add_edge('Union Square', 'Grand Central', duration=10)",
      "graph.add_edge('Grand Central', 'Times Square', duration=5)",
      "graph.add_edge('Penn Station', 'Times Square', duration=5)",
      "graph.add_edge('Times Square', '72nd Street and Broadway', duration=10)",
      "graph.add_edge('72nd Street and Broadway', '96th Street and Broadway', duration=10)",
      "graph.add_edge('Grand Central', '86th Street and Lexington', duration=10)",
      "# What is the fastest way to get from City Hall to 86th Street and Lexington?",
      "print nx.dijkstra_path(graph, 'City Hall', '86th Street and Lexington', weight='duration')",
      "# How long will it take?",
      "print '%s minutes' % nx.dijkstra_path_length(graph, 'City Hall', '86th Street and Lexington', weight='duration')"
     ],
     "language": "python",
     "outputs": [
      {
       "output_type": "stream",
       "stream": "stdout",
       "text": [
        "['City Hall', 'Union Square', 'Grand Central', '86th Street and Lexington']",
        "30 minutes",
        ""
       ]
      }
     ],
     "prompt_number": 60
    },
    {
     "cell_type": "markdown",
     "source": [
      "Save and load graphs."
     ]
    },
    {
     "cell_type": "code",
     "input": [
      "# Save",
      "nx.write_gpickle(graph, 'graph.pkl')",
      "# Load",
      "graph = nx.read_gpickle('graph.pkl')",
      "graph.edges(data=True)"
     ],
     "language": "python",
     "outputs": [
      {
       "output_type": "pyout",
       "prompt_number": 63,
       "text": [
        "[('86th Street and Lexington', 'Grand Central', {'duration': 10}),",
        " ('72nd Street and Broadway', '96th Street and Broadway', {'duration': 10}),",
        " ('72nd Street and Broadway', 'Times Square', {'duration': 10}),",
        " ('Grand Central', 'Union Square', {'duration': 10}),",
        " ('Grand Central', 'Times Square', {'duration': 5}),",
        " ('Union Square', 'City Hall', {'duration': 10}),",
        " ('Penn Station', 'Times Square', {'duration': 5})]"
       ]
      }
     ],
     "prompt_number": 63
    },
    {
     "cell_type": "markdown",
     "source": [
      "## Exercise",
      "",
      "- Split into groups of three.",
      "- Pick a [NetworkX algorithm](http://networkx.lanl.gov/reference/algorithms.html).",
      "- Figure out why it is useful.",
      "- Figure out how to use it.",
      "- Show the other two people in your group why it is useful and how to use it."
     ]
    }
   ]
  }
 ]
}