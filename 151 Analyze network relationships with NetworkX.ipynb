{
 "metadata": {
  "name": "151 Analyze network relationships with NetworkX"
 },
 "nbformat": 3,
 "nbformat_minor": 0,
 "worksheets": [
  {
   "cells": [
    {
     "cell_type": "markdown",
     "metadata": {},
     "source": [
      "# NetworkX is for network relationship analysis"
     ]
    },
    {
     "cell_type": "markdown",
     "metadata": {},
     "source": [
      "## Overview\n",
      "\n",
      "[NetworkX](http://networkx.lanl.gov)\n",
      "is a package for creating, analyzing, visualizing networks or graphs.\n",
      "A graph is a general mathematical concept that can be used to represent\n",
      "nodes and edges for moving from one node to another node.\n",
      "The strength of NetworkX is in its simplicity and its\n",
      "[algorithms](http://networkx.lanl.gov/reference/algorithms.html)."
     ]
    },
    {
     "cell_type": "markdown",
     "metadata": {},
     "source": [
      "## Usage"
     ]
    },
    {
     "cell_type": "code",
     "collapsed": false,
     "input": [
      "import networkx as nx"
     ],
     "language": "python",
     "metadata": {},
     "outputs": []
    },
    {
     "cell_type": "markdown",
     "metadata": {},
     "source": [
      "Make a graph."
     ]
    },
    {
     "cell_type": "code",
     "collapsed": false,
     "input": [
      "# Make a graph where edges do not have direction.\n",
      "# Example: \n",
      "graph = nx.Graph()"
     ],
     "language": "python",
     "metadata": {},
     "outputs": []
    },
    {
     "cell_type": "code",
     "collapsed": false,
     "input": [
      "# Make a graph where edges have direction.\n",
      "# Example: \n",
      "diGraph = nx.DiGraph()"
     ],
     "language": "python",
     "metadata": {},
     "outputs": []
    },
    {
     "cell_type": "code",
     "collapsed": false,
     "input": [
      "# Make a graph where two nodes can have multiple connecting edges without direction.\n",
      "# Example:\n",
      "multiGraph = nx.MultiGraph()"
     ],
     "language": "python",
     "metadata": {},
     "outputs": []
    },
    {
     "cell_type": "code",
     "collapsed": false,
     "input": [
      "# Make a graph where two nodes can have multiple connecting edges with direction.\n",
      "# Example: Cities and the one-way highways connecting them, where\n",
      "#          two cities can be connected by more than two highways\n",
      "multiDiGraph = nx.MultiDiGraph()"
     ],
     "language": "python",
     "metadata": {},
     "outputs": []
    },
    {
     "cell_type": "code",
     "collapsed": false,
     "input": [
      "# Generate a random graph.\n",
      "degree = 2\n",
      "nodeCount = 10\n",
      "randomGraph = nx.random_regular_graph(degree, nodeCount)"
     ],
     "language": "python",
     "metadata": {},
     "outputs": []
    },
    {
     "cell_type": "markdown",
     "metadata": {},
     "source": [
      "Add nodes, see nodes, draw nodes."
     ]
    },
    {
     "cell_type": "code",
     "collapsed": false,
     "input": [
      "graph = nx.Graph()\n",
      "# Add single nodes\n",
      "graph.add_node(100)\n",
      "graph.add_node('lettuce')\n",
      "# Add multiple nodes\n",
      "graph.add_nodes_from(['carrot', 'zucchini'])\n",
      "# List nodes\n",
      "graph.nodes()"
     ],
     "language": "python",
     "metadata": {},
     "outputs": []
    },
    {
     "cell_type": "code",
     "collapsed": false,
     "input": [
      "# Print the first three letters of each node using the nodes_iter() iterator,\n",
      "# which is more efficient than nodes() because it does not create an itermediate list\n",
      "[str(node)[:3] for node in graph.nodes_iter()]"
     ],
     "language": "python",
     "metadata": {},
     "outputs": []
    },
    {
     "cell_type": "code",
     "collapsed": false,
     "input": [
      "# Draw graph\n",
      "nx.draw(graph)"
     ],
     "language": "python",
     "metadata": {},
     "outputs": []
    },
    {
     "cell_type": "markdown",
     "metadata": {},
     "source": [
      "Add edges, see edges, draw edges."
     ]
    },
    {
     "cell_type": "code",
     "collapsed": false,
     "input": [
      "graph = nx.Graph()\n",
      "# Add single edges\n",
      "graph.add_edge('City Hall', 'Union Square')\n",
      "graph.add_edge('Union Square', 'Grand Central')\n",
      "graph.add_edge('Grand Central', 'Times Square')\n",
      "# Add multiple edges\n",
      "graph.add_edges_from([\n",
      "    ('Penn Station', 'Times Square'),\n",
      "    ('Times Square', '72nd Street and Broadway'),\n",
      "    ('72nd Street and Broadway', '96th Street and Broadway'),\n",
      "])\n",
      "# List nodes\n",
      "graph.nodes()"
     ],
     "language": "python",
     "metadata": {},
     "outputs": [
      {
       "output_type": "pyout",
       "prompt_number": 57,
       "text": [
        "['72nd Street and Broadway',\n",
        " 'Grand Central',\n",
        " '96th Street and Broadway',\n",
        " 'Union Square',\n",
        " 'City Hall',\n",
        " 'Penn Station',\n",
        " 'Times Square']"
       ]
      }
     ],
     "prompt_number": 57
    },
    {
     "cell_type": "code",
     "collapsed": false,
     "input": [
      "# List edges\n",
      "graph.edges()"
     ],
     "language": "python",
     "metadata": {},
     "outputs": []
    },
    {
     "cell_type": "code",
     "collapsed": false,
     "input": [
      "# List edges using the first three letters of each node using the edges_iter() iterator,\n",
      "# which is more efficient than edges() because it does not create an itermediate list\n",
      "[(node1[:3], node2[:3]) for node1, node2 in graph.edges_iter()]"
     ],
     "language": "python",
     "metadata": {},
     "outputs": []
    },
    {
     "cell_type": "code",
     "collapsed": false,
     "input": [
      "# Draw graph\n",
      "nx.draw(graph)"
     ],
     "language": "python",
     "metadata": {},
     "outputs": []
    },
    {
     "cell_type": "markdown",
     "metadata": {},
     "source": [
      "Add attributes."
     ]
    },
    {
     "cell_type": "code",
     "collapsed": false,
     "input": [
      "# Add graph attributes\n",
      "graph = nx.Graph(name='phone records')\n",
      "graph.graph['startIndex'] = 500\n",
      "graph.graph['endIndex'] = 10000\n",
      "graph.graph"
     ],
     "language": "python",
     "metadata": {},
     "outputs": []
    },
    {
     "cell_type": "code",
     "collapsed": false,
     "input": [
      "# Add node attributes\n",
      "graph.add_node('18008662453', name='TMobile customer service')\n",
      "graph.add_node('18883336651', name='AT&T customer service')\n",
      "graph.add_node('18009220204', name='Verizon customer service')\n",
      "graph.add_node('18668667509', name='Sprint customer service')\n",
      "graph.node['18008662453']['name'] = 'T-Mobile customer service'\n",
      "graph.node['18008662453']"
     ],
     "language": "python",
     "metadata": {},
     "outputs": []
    },
    {
     "cell_type": "code",
     "collapsed": false,
     "input": [
      "# Look at nodes and their attributes\n",
      "graph.nodes(data=True)"
     ],
     "language": "python",
     "metadata": {},
     "outputs": []
    },
    {
     "cell_type": "code",
     "collapsed": false,
     "input": [
      "# Add attributes to an edge\n",
      "graph.add_edge('18883336651', '18009220204', weight=0.5, confidence=0.9)\n",
      "graph.add_edge('18009220204', '18668667509', weight=0.3, confidence=0.4)\n",
      "graph.edge['18883336651']['18009220204']['weight'] = 1.0\n",
      "graph.edge['18883336651']['18009220204']"
     ],
     "language": "python",
     "metadata": {},
     "outputs": []
    },
    {
     "cell_type": "code",
     "collapsed": false,
     "input": [
      "# Look at edges and their attributes\n",
      "graph.edges(data=True)"
     ],
     "language": "python",
     "metadata": {},
     "outputs": []
    },
    {
     "cell_type": "code",
     "collapsed": false,
     "input": [
      "nx.draw_circular(graph)"
     ],
     "language": "python",
     "metadata": {},
     "outputs": []
    },
    {
     "cell_type": "markdown",
     "metadata": {},
     "source": [
      "Analyze a graph with an algorithm."
     ]
    },
    {
     "cell_type": "code",
     "collapsed": false,
     "input": [
      "graph = nx.Graph()\n",
      "graph.add_edge('City Hall', 'Union Square', duration=10)\n",
      "graph.add_edge('Union Square', 'Grand Central', duration=10)\n",
      "graph.add_edge('Grand Central', 'Times Square', duration=5)\n",
      "graph.add_edge('Penn Station', 'Times Square', duration=5)\n",
      "graph.add_edge('Times Square', '72nd Street and Broadway', duration=10)\n",
      "graph.add_edge('72nd Street and Broadway', '96th Street and Broadway', duration=10)\n",
      "graph.add_edge('Grand Central', '86th Street and Lexington', duration=10)\n",
      "# What is the fastest way to get from City Hall to 86th Street and Lexington?\n",
      "print nx.dijkstra_path(graph, 'City Hall', '86th Street and Lexington', weight='duration')\n",
      "# How long will it take?\n",
      "print '%s minutes' % nx.dijkstra_path_length(graph, 'City Hall', '86th Street and Lexington', weight='duration')"
     ],
     "language": "python",
     "metadata": {},
     "outputs": [
      {
       "output_type": "stream",
       "stream": "stdout",
       "text": [
        "['City Hall', 'Union Square', 'Grand Central', '86th Street and Lexington']\n",
        "30 minutes\n"
       ]
      }
     ],
     "prompt_number": 60
    },
    {
     "cell_type": "markdown",
     "metadata": {},
     "source": [
      "Save and load graphs."
     ]
    },
    {
     "cell_type": "code",
     "collapsed": false,
     "input": [
      "# Save\n",
      "nx.write_gpickle(graph, 'graph.pkl')\n",
      "# Load\n",
      "graph = nx.read_gpickle('graph.pkl')\n",
      "graph.edges(data=True)"
     ],
     "language": "python",
     "metadata": {},
     "outputs": [
      {
       "output_type": "pyout",
       "prompt_number": 63,
       "text": [
        "[('86th Street and Lexington', 'Grand Central', {'duration': 10}),\n",
        " ('72nd Street and Broadway', '96th Street and Broadway', {'duration': 10}),\n",
        " ('72nd Street and Broadway', 'Times Square', {'duration': 10}),\n",
        " ('Grand Central', 'Union Square', {'duration': 10}),\n",
        " ('Grand Central', 'Times Square', {'duration': 5}),\n",
        " ('Union Square', 'City Hall', {'duration': 10}),\n",
        " ('Penn Station', 'Times Square', {'duration': 5})]"
       ]
      }
     ],
     "prompt_number": 63
    },
    {
     "cell_type": "markdown",
     "metadata": {},
     "source": [
      "## Exercise\n",
      "\n",
      "- Split into groups of three.\n",
      "- Pick a [NetworkX algorithm](http://networkx.lanl.gov/reference/algorithms.html).\n",
      "- Figure out why it is useful.\n",
      "- Figure out how to use it.\n",
      "- Show the other two people in your group why it is useful and how to use it."
     ]
    },
    {
     "cell_type": "markdown",
     "metadata": {},
     "source": [
      "## Exercise\n",
      "\n",
      "Apply network relationship analysis to a dataset and give a three-minute briefing of results to the group."
     ]
    },
    {
     "cell_type": "markdown",
     "metadata": {},
     "source": [
      "## Resources\n",
      "\n",
      "- Watch videos http://pyvideo.org/video/627/graph-processing-in-python\n",
      "- Work through tutorials http://networkx.lanl.gov\n",
      "- Ask the mailing list https://groups.google.com/forum/?fromgroups#!forum/networkx-discuss"
     ]
    }
   ],
   "metadata": {}
  }
 ]
}