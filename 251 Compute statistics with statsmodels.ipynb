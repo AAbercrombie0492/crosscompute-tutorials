{
 "metadata": {
  "name": "251 Compute statistics with statsmodels"
 },
 "nbformat": 3,
 "nbformat_minor": 0,
 "worksheets": [
  {
   "cells": [
    {
     "cell_type": "markdown",
     "metadata": {},
     "source": [
      "# [Statsmodels](http://statsmodels.sourceforge.net) is a collection of statistical models, tests and tools"
     ]
    },
    {
     "cell_type": "markdown",
     "metadata": {},
     "source": [
      "Usage example: Regression"
     ]
    },
    {
     "cell_type": "code",
     "collapsed": false,
     "input": [
      "# Adapted from\n",
      "# https://github.com/statsmodels/statsmodels/examples/example_ols_minimal.py\n",
      "import numpy as np\n",
      "import statsmodels.api as sm\n",
      "\n",
      "nsample = 100\n",
      "x = np.linspace(0, 10, 100)\n",
      "X = sm.add_constant(np.column_stack((x, x ** 2)))\n",
      "beta = np.array([1, 0.1, 10])\n",
      "y = np.dot(X, beta) + np.random.normal(size=nsample)\n",
      "\n",
      "results = sm.OLS(y, X).fit()\n",
      "print results.summary()"
     ],
     "language": "python",
     "metadata": {},
     "outputs": [],
     "prompt_number": 5
    },
    {
     "cell_type": "code",
     "collapsed": false,
     "input": [
      "\"\"\"Out of sample prediction\n",
      "\"\"\"\n",
      "\n",
      "import numpy as np\n",
      "import statsmodels.api as sm\n",
      "\n",
      "#Create some data\n",
      "\n",
      "nsample = 50\n",
      "sig = 0.25\n",
      "x1 = np.linspace(0, 20, nsample)\n",
      "X = np.c_[x1, np.sin(x1), (x1-5)**2, np.ones(nsample)]\n",
      "beta = [0.5, 0.5, -0.02, 5.]\n",
      "y_true = np.dot(X, beta)\n",
      "y = y_true + sig * np.random.normal(size=nsample)\n",
      "\n",
      "#Setup and estimate the model\n",
      "\n",
      "olsmod = sm.OLS(y, X)\n",
      "olsres = olsmod.fit()\n",
      "print olsres.params\n",
      "print olsres.bse\n",
      "\n",
      "#In-sample prediction\n",
      "\n",
      "ypred = olsres.predict(X)\n",
      "\n",
      "#Create a new sample of explanatory variables Xnew, predict and plot\n",
      "\n",
      "x1n = np.linspace(20.5,25, 10)\n",
      "Xnew = np.c_[x1n, np.sin(x1n), (x1n-5)**2, np.ones(10)]\n",
      "ynewpred =  olsres.predict(Xnew) # predict out of sample\n",
      "print ypred\n",
      "\n",
      "import matplotlib.pyplot as plt\n",
      "plt.figure()\n",
      "plt.plot(x1, y, 'o', x1, y_true, 'b-')\n",
      "plt.plot(np.hstack((x1, x1n)), np.hstack((ypred, ynewpred)),'r')\n",
      "#@savefig ols_predict.png\n",
      "plt.title('OLS prediction, blue: true and data, fitted/predicted values:red')"
     ],
     "language": "python",
     "metadata": {},
     "outputs": [],
     "prompt_number": 6
    },
    {
     "cell_type": "markdown",
     "metadata": {},
     "source": [
      "Usage example: Time series analysis"
     ]
    },
    {
     "cell_type": "code",
     "collapsed": false,
     "input": [
      "\"\"\"\n",
      "Using dates with timeseries models\n",
      "\"\"\"\n",
      "import statsmodels.api as sm\n",
      "import numpy as np\n",
      "import pandas\n",
      "\n",
      "# Getting started\n",
      "# ---------------\n",
      "\n",
      "data = sm.datasets.sunspots.load()\n",
      "\n",
      "# Right now an annual date series must be datetimes at the end of the year.\n",
      "\n",
      "from datetime import datetime\n",
      "dates = sm.tsa.datetools.dates_from_range('1700', length=len(data.endog))\n",
      "\n",
      "# Using Pandas\n",
      "# ------------\n",
      "\n",
      "# Make a pandas TimeSeries or DataFrame\n",
      "endog = pandas.TimeSeries(data.endog, index=dates)\n",
      "\n",
      "# and instantiate the model\n",
      "ar_model = sm.tsa.AR(endog, freq='A')\n",
      "pandas_ar_res = ar_model.fit(maxlag=9, method='mle', disp=-1)\n",
      "\n",
      "# Let's do some out-of-sample prediction\n",
      "pred = pandas_ar_res.predict(start='2005', end='2015')\n",
      "print pred\n",
      "\n",
      "# Using explicit dates\n",
      "# --------------------\n",
      "\n",
      "ar_model = sm.tsa.AR(data.endog, dates=dates, freq='A')\n",
      "ar_res = ar_model.fit(maxlag=9, method='mle', disp=-1)\n",
      "pred = ar_res.predict(start='2005', end='2015')\n",
      "print pred\n",
      "\n",
      "# This just returns a regular array, but since the model has date information\n",
      "# attached, you can get the prediction dates in a roundabout way.\n",
      "\n",
      "print ar_res._data.predict_dates\n",
      "\n",
      "# This attribute only exists if predict has been called. It holds the dates\n",
      "# associated with the last call to predict.\n",
      "#..TODO: should this be attached to the results instance?"
     ],
     "language": "python",
     "metadata": {},
     "outputs": [],
     "prompt_number": 7
    },
    {
     "cell_type": "markdown",
     "metadata": {},
     "source": [
      "Learn more\n",
      "\n",
      "- [Statsmodels documentation](http://statsmodels.sourceforge.net)\n",
      "- [Statsmodels examples](https://github.com/statsmodels/statsmodels/examples)"
     ]
    }
   ],
   "metadata": {}
  }
 ]
}