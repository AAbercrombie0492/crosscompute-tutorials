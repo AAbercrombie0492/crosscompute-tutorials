{
 "metadata": {
  "name": "251 Walk through a deep supervised learning example"
 },
 "nbformat": 3,
 "worksheets": [
  {
   "cells": [
    {
     "cell_type": "code",
     "input": [
      ""
     ],
     "language": "python",
     "outputs": []
    }
   ]
  }
 ]
}