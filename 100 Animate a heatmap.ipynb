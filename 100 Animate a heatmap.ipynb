{
 "metadata": {
  "name": "100 Animate a heatmap"
 },
 "nbformat": 3,
 "nbformat_minor": 0,
 "worksheets": [
  {
   "cells": [
    {
     "cell_type": "code",
     "collapsed": false,
     "input": [
      "import pylab as pl\n",
      "import numpy as np\n",
      "import scipy.ndimage\n",
      "import scipy.spatial"
     ],
     "language": "python",
     "metadata": {},
     "outputs": [],
     "prompt_number": 1
    },
    {
     "cell_type": "markdown",
     "metadata": {},
     "source": [
      "Make 50 random points with X and Y coordinates from 0 to 256."
     ]
    },
    {
     "cell_type": "code",
     "collapsed": false,
     "input": [
      "pointCount = 50\n",
      "points = np.random.rand(pointCount, 2) * 256\n",
      "points[:3]"
     ],
     "language": "python",
     "metadata": {},
     "outputs": [],
     "prompt_number": 2
    },
    {
     "cell_type": "markdown",
     "metadata": {},
     "source": [
      "Look at the last three points."
     ]
    },
    {
     "cell_type": "code",
     "collapsed": false,
     "input": [
      "# Type your solution here and press CTRL-ENTER"
     ],
     "language": "python",
     "metadata": {},
     "outputs": [],
     "prompt_number": 3
    },
    {
     "cell_type": "markdown",
     "metadata": {},
     "source": [
      "Make a scatter plot of the 50 random points."
     ]
    },
    {
     "cell_type": "code",
     "collapsed": false,
     "input": [
      "values = np.random.rand(pointCount) * 300\n",
      "pl.scatter(points[:, 0], points[:, 1], c=values, s=values, cmap=pl.cm.Greens)\n",
      "pl.axis('tight');"
     ],
     "language": "python",
     "metadata": {},
     "outputs": [],
     "prompt_number": 4
    },
    {
     "cell_type": "markdown",
     "metadata": {},
     "source": [
      "Set points with an area greater than 50 to a different color using the Paired colormap."
     ]
    },
    {
     "cell_type": "code",
     "collapsed": false,
     "input": [
      "# Type your solution here and press CTRL-ENTER"
     ],
     "language": "python",
     "metadata": {},
     "outputs": [],
     "prompt_number": 11
    },
    {
     "cell_type": "markdown",
     "metadata": {},
     "source": [
      "Paint a heatmap of the 50 random points."
     ]
    },
    {
     "cell_type": "code",
     "collapsed": false,
     "input": [
      "def get_heatmap(points):\n",
      "    image = np.zeros((256, 256))\n",
      "    for x, y in points:\n",
      "        image[y, x] += 1\n",
      "    return scipy.ndimage.gaussian_filter(image, (10, 10))\n",
      "pl.imshow(get_heatmap(points), origin='lower');"
     ],
     "language": "python",
     "metadata": {},
     "outputs": [],
     "prompt_number": 6
    },
    {
     "cell_type": "markdown",
     "metadata": {},
     "source": [
      "Overlay a scatter plot on the heatmap."
     ]
    },
    {
     "cell_type": "code",
     "collapsed": false,
     "input": [
      "# Type your solution here and press CTRL-ENTER"
     ],
     "language": "python",
     "metadata": {},
     "outputs": [],
     "prompt_number": 7
    },
    {
     "cell_type": "markdown",
     "metadata": {},
     "source": [
      "Pick a random point."
     ]
    },
    {
     "cell_type": "code",
     "collapsed": false,
     "input": [
      "import random\n",
      "randomPoint = random.choice(points)\n",
      "randomPoint"
     ],
     "language": "python",
     "metadata": {},
     "outputs": [],
     "prompt_number": 8
    },
    {
     "cell_type": "markdown",
     "metadata": {},
     "source": [
      "Get the five points closest to the random point."
     ]
    },
    {
     "cell_type": "code",
     "collapsed": false,
     "input": [
      "import scipy.spatial\n",
      "kdTree = scipy.spatial.KDTree(points)\n",
      "neighborDistances, neighborIndices = kdTree.query(randomPoint, k=5)\n",
      "points[neighborIndices]"
     ],
     "language": "python",
     "metadata": {},
     "outputs": [],
     "prompt_number": 9
    },
    {
     "cell_type": "markdown",
     "metadata": {},
     "source": [
      "Generate fifty heatmaps where the first heatmap contains one random point and the third heatmap contains the random point and the two points closest to the random point."
     ]
    },
    {
     "cell_type": "code",
     "collapsed": false,
     "input": [
      "import os\n",
      "targetPath = os.path.expandvars('$HOME/Downloads/points%s.png')\n",
      "kdTree = scipy.spatial.KDTree(points)\n",
      "image = get_heatmap([randomPoint])\n",
      "pl.imsave(targetPath % 1, image, origin='lower')\n",
      "for pointCount in xrange(2, len(points) + 1):\n",
      "    nearestPoints = points[kdTree.query(randomPoint, k=pointCount - 1)[1]]\n",
      "    image = get_heatmap(np.vstack([randomPoint, nearestPoints]))\n",
      "    pl.imsave(targetPath % pointCount, image, origin='lower')"
     ],
     "language": "python",
     "metadata": {},
     "outputs": [],
     "prompt_number": 10
    },
    {
     "cell_type": "markdown",
     "metadata": {},
     "source": [
      "Combine the fifty heatmaps into an animated GIF.\n",
      "\n",
      "    cd ~/Downloads\n",
      "    gm convert -delay 1 points*.png points.gif"
     ]
    }
   ],
   "metadata": {}
  }
 ]
}