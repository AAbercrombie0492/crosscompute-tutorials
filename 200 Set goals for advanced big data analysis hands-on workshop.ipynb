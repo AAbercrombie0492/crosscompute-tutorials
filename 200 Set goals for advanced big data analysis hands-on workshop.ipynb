{
 "metadata": {
  "name": "200 Set goals for advanced big data analysis hands-on workshop"
 },
 "nbformat": 3,
 "worksheets": [
  {
   "cells": [
    {
     "cell_type": "markdown",
     "source": [
      "# Advanced big data analysis hands-on workshop",
      "",
      "## Concepts we will cover",
      "",
      "- (90 minutes) Machine learning with scikit-learn",
      "- (30 minutes) Deep learning with Theano",
      "- (30 minutes) GPU parallel computing with PyOpenCL and PyCUDA",
      "- (30 minutes) Cloud computing with pika",
      "",
      "## Skills we will practice",
      "",
      "- Read documentation to learn usage",
      "- Read source code to learn techniques",
      "- Interact with the data and code using IPython"
     ]
    }
   ]
  }
 ]
}