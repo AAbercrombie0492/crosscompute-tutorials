{
 "metadata": {
  "name": "501 Discuss practical considerations in real-world applications"
 },
 "nbformat": 3,
 "nbformat_minor": 0,
 "worksheets": [
  {
   "cells": [
    {
     "cell_type": "markdown",
     "metadata": {},
     "source": [
      "Select features with cross-validation"
     ]
    },
    {
     "cell_type": "markdown",
     "metadata": {},
     "source": [
      "Select models with cross-validation"
     ]
    },
    {
     "cell_type": "markdown",
     "metadata": {},
     "source": [
      "Scale samples"
     ]
    },
    {
     "cell_type": "markdown",
     "metadata": {},
     "source": [
      "Decorrelate samples"
     ]
    },
    {
     "cell_type": "markdown",
     "metadata": {},
     "source": [
      "Cross-validate with transformations by pipelining"
     ]
    },
    {
     "cell_type": "markdown",
     "metadata": {},
     "source": [
      "Interpolate missing labels"
     ]
    },
    {
     "cell_type": "markdown",
     "metadata": {},
     "source": [
      "# References\n",
      "\n",
      "- [Dataset transformations](http://scikit-learn.org/dev/modules/data_transforms.html)\n",
      "- [Classify a satellite image using a convolutional neural network](http://invisibleroads.com/tutorials/image-classify-convolutional-neural-network.html)"
     ]
    }
   ],
   "metadata": {}
  }
 ]
}