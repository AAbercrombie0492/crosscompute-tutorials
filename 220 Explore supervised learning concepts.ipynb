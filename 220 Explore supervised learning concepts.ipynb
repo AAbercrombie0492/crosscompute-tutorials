{
 "metadata": {
  "name": "220 Explore supervised learning concepts"
 },
 "nbformat": 3,
 "worksheets": [
  {
   "cells": [
    {
     "cell_type": "markdown",
     "source": [
      "For a review of supervised learning concepts, please see the [documentation](http://scikit-learn.org/dev/tutorial/statistical_inference/supervised_learning.html)."
     ]
    },
    {
     "cell_type": "markdown",
     "source": [
      "- Classification",
      "- Regression"
     ]
    },
    {
     "cell_type": "markdown",
     "source": [
      "- Hyper parameters",
      "- Estimated parameters"
     ]
    },
    {
     "cell_type": "markdown",
     "source": [
      "- Loss function",
      "- Gradient descent",
      "- Overfitting",
      "- Regularization"
     ]
    },
    {
     "cell_type": "markdown",
     "source": [
      "- Feature selection",
      "- Feature extraction"
     ]
    }
   ]
  }
 ]
}