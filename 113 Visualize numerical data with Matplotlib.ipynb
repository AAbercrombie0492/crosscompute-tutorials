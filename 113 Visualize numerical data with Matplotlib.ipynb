{
 "metadata": {
  "name": "113 Visualize numerical data with Matplotlib"
 },
 "nbformat": 3,
 "worksheets": [
  {
   "cells": [
    {
     "cell_type": "markdown",
     "source": [
      "# Matplotlib is a visualization library",
      "",
      "- [Matplotlib](http://matplotlib.sourceforge.net)",
      "- [Matplotlib Gallery](http://matplotlib.sourceforge.net/examples/)",
      "- [Matplotlib Examples](http://matplotlib.sourceforge.net/gallery.html)"
     ]
    },
    {
     "cell_type": "code",
     "input": [
      "# Cut and paste code from the gallery and press CTRL-ENTER"
     ],
     "language": "python",
     "outputs": []
    },
    {
     "cell_type": "code",
     "input": [
      "# Cut and paste code from an example and press CTRL-ENTER "
     ],
     "language": "python",
     "outputs": []
    }
   ]
  }
 ]
}