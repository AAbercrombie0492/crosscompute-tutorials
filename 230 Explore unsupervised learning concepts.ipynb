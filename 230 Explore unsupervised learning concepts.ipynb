{
 "metadata": {
  "name": "230 Explore unsupervised learning concepts"
 },
 "nbformat": 3,
 "worksheets": [
  {
   "cells": [
    {
     "cell_type": "markdown",
     "source": [
      "- Manifold learning",
      "- Clustering",
      "- Decomposition",
      "- Outlier detection",
      "- Hidden markov models"
     ]
    }
   ]
  }
 ]
}