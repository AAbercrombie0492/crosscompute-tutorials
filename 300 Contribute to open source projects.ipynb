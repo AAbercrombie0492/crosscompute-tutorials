{
 "metadata": {
  "name": "300 Contribute to open source projects"
 },
 "nbformat": 3,
 "worksheets": [
  {
   "cells": [
    {
     "cell_type": "markdown",
     "source": [
      "- Read code from open source repositories.",
      "- Report bugs.",
      "- File feature requests.",
      "- Fix bugs.",
      "- Add features."
     ]
    }
   ]
  }
 ]
}