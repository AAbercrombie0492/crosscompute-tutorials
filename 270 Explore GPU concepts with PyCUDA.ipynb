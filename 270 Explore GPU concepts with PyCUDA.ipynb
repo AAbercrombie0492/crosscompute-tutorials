{
 "metadata": {
  "name": "270 Explore GPU concepts with PyCUDA"
 },
 "nbformat": 3,
 "nbformat_minor": 0,
 "worksheets": [
  {
   "cells": [
    {
     "cell_type": "markdown",
     "metadata": {},
     "source": [
      "- [PyCUDA](http://mathema.tician.de/software/pycuda)\n",
      "- [PyCUDA code repository](https://github.com/inducer/pycuda)\n",
      "- [PyCUDA code examples](https://github.com/inducer/pycuda/tree/master/examples)\n",
      "- [PyCUDA code tests](https://github.com/inducer/pycuda/tree/master/test)\n",
      "- [PyCUDA videos](http://pyvideo.org/search?models=videos.video&q=pycuda)"
     ]
    }
   ],
   "metadata": {}
  }
 ]
}