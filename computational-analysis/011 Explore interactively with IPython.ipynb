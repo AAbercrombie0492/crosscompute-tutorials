{
 "metadata": {
  "name": "011 Explore interactively with IPython"
 },
 "nbformat": 3,
 "nbformat_minor": 0,
 "worksheets": [
  {
   "cells": [
    {
     "cell_type": "markdown",
     "metadata": {},
     "source": [
      "# IPython is for interactive Python\n",
      "\n",
      "## Interact in a browser\n",
      "\n",
      "Start the server with plotting functionality.\n",
      "\n",
      "    ipython notebook --pylab=inline\n",
      "\n",
      "See a list of keyboard shortcuts."
     ]
    },
    {
     "cell_type": "code",
     "collapsed": false,
     "input": [
      "# Press CTRL-m h"
     ],
     "language": "python",
     "metadata": {},
     "outputs": []
    },
    {
     "cell_type": "markdown",
     "metadata": {},
     "source": [
      "Execute code."
     ]
    },
    {
     "cell_type": "code",
     "collapsed": false,
     "input": [
      "# Press CTRL-ENTER to execute the current block in place\n",
      "1 + 1"
     ],
     "language": "python",
     "metadata": {},
     "outputs": []
    },
    {
     "cell_type": "code",
     "collapsed": false,
     "input": [
      "# Press SHIFT-ENTER to execute the current code and go to the next block\n",
      "[x * 2 for x in xrange(5)]"
     ],
     "language": "python",
     "metadata": {},
     "outputs": []
    },
    {
     "cell_type": "markdown",
     "metadata": {},
     "source": [
      "Insert code blocks."
     ]
    },
    {
     "cell_type": "code",
     "collapsed": false,
     "input": [
      "# Press CTRL-m a to insert a code block above\n",
      "# Press CTRL-m b to insert a code block below"
     ],
     "language": "python",
     "metadata": {},
     "outputs": []
    },
    {
     "cell_type": "markdown",
     "metadata": {},
     "source": [
      "Use TAB completion."
     ]
    },
    {
     "cell_type": "code",
     "collapsed": false,
     "input": [
      "# Type imp<TAB> sub<TAB>.Po<TAB>.<TAB>"
     ],
     "language": "python",
     "metadata": {},
     "outputs": []
    },
    {
     "cell_type": "markdown",
     "metadata": {},
     "source": [
      "Get help."
     ]
    },
    {
     "cell_type": "code",
     "collapsed": false,
     "input": [
      "# Type zip( and wait to see a tooltip"
     ],
     "language": "python",
     "metadata": {},
     "outputs": []
    },
    {
     "cell_type": "code",
     "collapsed": false,
     "input": [
      "# Press CTRL-ENTER to see documentation\n",
      "zip?"
     ],
     "language": "python",
     "metadata": {},
     "outputs": []
    },
    {
     "cell_type": "code",
     "collapsed": false,
     "input": [
      "# Press CTRL-ENTER to see source code\n",
      "import IPython\n",
      "IPython??"
     ],
     "language": "python",
     "metadata": {},
     "outputs": []
    },
    {
     "cell_type": "markdown",
     "metadata": {},
     "source": [
      "Split blocks."
     ]
    },
    {
     "cell_type": "code",
     "collapsed": false,
     "input": [
      "# Place your cursor below this line and select Edit > Split Cell.\n",
      "\n",
      "# Wheee!"
     ],
     "language": "python",
     "metadata": {},
     "outputs": []
    },
    {
     "cell_type": "markdown",
     "metadata": {},
     "source": [
      "Use shell command magic with TAB completion."
     ]
    },
    {
     "cell_type": "code",
     "collapsed": false,
     "input": [
      "ls datasets"
     ],
     "language": "python",
     "metadata": {},
     "outputs": []
    },
    {
     "cell_type": "code",
     "collapsed": false,
     "input": [
      "files = !ls  # Store shell output in a variable"
     ],
     "language": "python",
     "metadata": {},
     "outputs": []
    },
    {
     "cell_type": "code",
     "collapsed": false,
     "input": [
      "# First type cd ~/Doc<TAB><CTRL-ENTER>"
     ],
     "language": "python",
     "metadata": {},
     "outputs": []
    },
    {
     "cell_type": "code",
     "collapsed": false,
     "input": [
      "# Then type cd -<TAB> to see directory history"
     ],
     "language": "python",
     "metadata": {},
     "outputs": []
    },
    {
     "cell_type": "markdown",
     "metadata": {},
     "source": [
      "Copy and paste code and IPython will parse it intelligently.\n",
      "\n",
      "    >>> def f(x, y):\n",
      "    ...     print x + y\n",
      "    >>> f(1, 2)"
     ]
    },
    {
     "cell_type": "code",
     "collapsed": false,
     "input": [
      "# Paste the above code here and press CTRL-ENTER"
     ],
     "language": "python",
     "metadata": {},
     "outputs": []
    },
    {
     "cell_type": "markdown",
     "metadata": {},
     "source": [
      "Examine variables in your session namespace."
     ]
    },
    {
     "cell_type": "code",
     "collapsed": false,
     "input": [
      "# Press SHIFT-ENTER\n",
      "x = 1"
     ],
     "language": "python",
     "metadata": {},
     "outputs": []
    },
    {
     "cell_type": "code",
     "collapsed": false,
     "input": [
      "whos"
     ],
     "language": "python",
     "metadata": {},
     "outputs": []
    },
    {
     "cell_type": "markdown",
     "metadata": {},
     "source": [
      "Compare execution speed."
     ]
    },
    {
     "cell_type": "code",
     "collapsed": false,
     "input": [
      "timeit 10 ** 10"
     ],
     "language": "python",
     "metadata": {},
     "outputs": []
    },
    {
     "cell_type": "code",
     "collapsed": false,
     "input": [
      "timeit pow(10, 10)"
     ],
     "language": "python",
     "metadata": {},
     "outputs": []
    },
    {
     "cell_type": "markdown",
     "metadata": {},
     "source": [
      "Write mathematical expressions in LaTeX thanks to [MathJax](http://mathjax.org).\n",
      "\n",
      "$\\left( \\sum_{k=1}^n a_k b_k \\right)^2 \\leq \\left( \\sum_{k=1}^n a_k^2 \\right) \\left( \\sum_{k=1}^n b_k^2 \\right)$"
     ]
    },
    {
     "cell_type": "markdown",
     "metadata": {},
     "source": [
      "## Interact in a terminal\n",
      "\n",
      "Start IPython in a terminal.\n",
      "\n",
      "    ipython\n",
      "    ipython --pylab   # Plot interactively without having to call pylab.show()"
     ]
    },
    {
     "cell_type": "markdown",
     "metadata": {},
     "source": [
      "Expand variables in shell commands.\n",
      "\n",
      "    x = 'Documents'\n",
      "    ls ~/$x\n",
      "\n",
      "Use the underscore.\n",
      "\n",
      "    1 + 1\n",
      "    _                 # Press ENTER to use the previous result\n",
      "    _ + 1             # Press ENTER to use the previous result\n",
      "\n",
      "Complete lines using your command history.\n",
      "\n",
      "                      # Press UP or DOWN to cycle through previous commands\n",
      "    x                 # Press CTRL-p or press CTRL-n to see commands from your history starting with the letter x\n",
      "                      # Press CTRL-r and type the letter o to recall commands from your history containing the letter o\n",
      "\n",
      "Use other commands from [readline](http://www.gnu.org/s/readline).\n",
      "\n",
      "    import os         # Press CTRL-x and BACKSPACE to clear text before the cursor\n",
      "    import os         # Press HOME and CTRL-k to clear text after the cursor"
     ]
    },
    {
     "cell_type": "markdown",
     "metadata": {},
     "source": [
      "Edit a block of commands using your favorite editor.\n",
      "\n",
      "    edit\n",
      "    edit example.py\n",
      "    run example\n",
      "\n",
      "Examine your command history.\n",
      "\n",
      "    hist               # Look at your session command history\n",
      "    hist -g            # Look at your global command history.\n",
      "    hist -g join       # Search global command history for the keyword join\n",
      "    recall 1           # Recall command for editing from history slot number one\n",
      "    rerun 1            # Rerun command from history slot number one"
     ]
    },
    {
     "cell_type": "markdown",
     "metadata": {},
     "source": [
      "Use other magic commands.\n",
      "\n",
      "    import os\n",
      "    reload(os)         # Reload a previously imported module in case its contents have changed\n",
      "    /reload os         # reload(os)           Add parentheses\n",
      "    ; print hi there   # print('hi there')    Add parentheses, quotes\n",
      "    , print hi there   # print('hi', 'there') Add parentheses, quotes, commas\n",
      "\n",
      "    def f(x):\n",
      "        print x + 1\n",
      "    f(None)\n",
      "    pdb                # Toggle automatic debugging\n",
      "    f(None)\n",
      "                       # Press CTRL-d to exit the debugger"
     ]
    },
    {
     "cell_type": "markdown",
     "metadata": {},
     "source": [
      "For more readline commands, please see \n",
      "[Jan Tomka's sheet](http://jan.tomka.name/sites/default/files/readline-commands.html).\n",
      "\n",
      "For more IPython commands, please see the [IPython documentation](http://ipython.org/documentation.html)."
     ]
    },
    {
     "cell_type": "markdown",
     "metadata": {},
     "source": [
      "Interact in a program\n",
      "---------------------\n",
      "Drop into the IPython prompt from inside a program to examine variables.\n",
      "\n",
      "    def f(text):\n",
      "        wordCount = len(text.split())\n",
      "        import IPython; IPython.embed() # Run the program and type whos at the prompt\n",
      "        return '%s words' % wordCount\n",
      "    f('one two three')\n",
      "\n",
      "Drop into the ipdb debugger from inside a program.\n",
      "\n",
      "    import ipdb; ipdb.set_trace()"
     ]
    },
    {
     "cell_type": "code",
     "collapsed": false,
     "input": [
      "import this"
     ],
     "language": "python",
     "metadata": {},
     "outputs": []
    },
    {
     "cell_type": "code",
     "collapsed": false,
     "input": [
      "from IPython.lib.display import YouTubeVideo\n",
      "YouTubeVideo('iwVvqwLDsJo')"
     ],
     "language": "python",
     "metadata": {},
     "outputs": []
    }
   ],
   "metadata": {}
  }
 ]
}