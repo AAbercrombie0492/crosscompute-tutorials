{
 "metadata": {
  "name": "050 Find the fastest path from Brooklyn Bridge to 96th and Broadway"
 },
 "nbformat": 3,
 "nbformat_minor": 0,
 "worksheets": [
  {
   "cells": [
    {
     "cell_type": "markdown",
     "metadata": {},
     "source": [
      "Cut and paste example code from the [NetworkX documentation](http://networkx.lanl.gov) in the code box below and press CTRL-ENTER."
     ]
    },
    {
     "cell_type": "code",
     "collapsed": false,
     "input": [],
     "language": "python",
     "metadata": {},
     "outputs": [],
     "prompt_number": "*"
    },
    {
     "cell_type": "markdown",
     "metadata": {},
     "source": [
      "Type `whos` in the code box below and press CTRL-ENTER."
     ]
    },
    {
     "cell_type": "code",
     "collapsed": false,
     "input": [
      "whos"
     ],
     "language": "python",
     "metadata": {},
     "outputs": [],
     "prompt_number": 1
    },
    {
     "cell_type": "markdown",
     "metadata": {},
     "source": [
      "Import the NetworkX package."
     ]
    },
    {
     "cell_type": "code",
     "collapsed": false,
     "input": [
      "import networkx as nx"
     ],
     "language": "python",
     "metadata": {},
     "outputs": [],
     "prompt_number": 2
    },
    {
     "cell_type": "markdown",
     "metadata": {},
     "source": [
      "Type `nx.` and press TAB to see what is inside the package."
     ]
    },
    {
     "cell_type": "code",
     "collapsed": false,
     "input": [],
     "language": "python",
     "metadata": {},
     "outputs": [],
     "prompt_number": 2
    },
    {
     "cell_type": "markdown",
     "metadata": {},
     "source": [
      "Type `nx.Graph(` and wait to see a tooltip."
     ]
    },
    {
     "cell_type": "code",
     "collapsed": false,
     "input": [],
     "language": "python",
     "metadata": {},
     "outputs": [],
     "prompt_number": 2
    },
    {
     "cell_type": "markdown",
     "metadata": {},
     "source": [
      "Make an undirected graph."
     ]
    },
    {
     "cell_type": "code",
     "collapsed": false,
     "input": [
      "graph = nx.Graph()"
     ],
     "language": "python",
     "metadata": {},
     "outputs": [],
     "prompt_number": 3
    },
    {
     "cell_type": "markdown",
     "metadata": {},
     "source": [
      "Type `graph.` and press TAB to see what you can do with it."
     ]
    },
    {
     "cell_type": "code",
     "collapsed": false,
     "input": [],
     "language": "python",
     "metadata": {},
     "outputs": [],
     "prompt_number": 3
    },
    {
     "cell_type": "markdown",
     "metadata": {},
     "source": [
      "Type graph.add_edge? and press CTRL-ENTER to see the function's documentation."
     ]
    },
    {
     "cell_type": "code",
     "collapsed": false,
     "input": [],
     "language": "python",
     "metadata": {},
     "outputs": [],
     "prompt_number": 3
    },
    {
     "cell_type": "markdown",
     "metadata": {},
     "source": [
      "Type graph.add_edge?? and press CTRL-ENTER to see the function's source code."
     ]
    },
    {
     "cell_type": "code",
     "collapsed": false,
     "input": [
      "graph.add_edge??"
     ],
     "language": "python",
     "metadata": {},
     "outputs": [],
     "prompt_number": 4
    },
    {
     "cell_type": "markdown",
     "metadata": {},
     "source": [
      "Add edges."
     ]
    },
    {
     "cell_type": "code",
     "collapsed": false,
     "input": [
      "graph.add_edge('Brooklyn Bridge', 'Union Square', duration=10)\n",
      "graph.add_edge('Union Square', 'Grand Central', duration=10)\n",
      "graph.add_edge('Grand Central', 'Times Square', duration=5)\n",
      "graph.add_edge('Penn Station', 'Times Square', duration=5)\n",
      "graph.add_edge('Times Square', '72nd Street and Broadway', duration=10)\n",
      "graph.add_edge('72nd Street and Broadway', '96th Street and Broadway', duration=10)\n",
      "graph.add_edge('Grand Central', '86th Street and Lexington', duration=10)"
     ],
     "language": "python",
     "metadata": {},
     "outputs": [],
     "prompt_number": 5
    },
    {
     "cell_type": "markdown",
     "metadata": {},
     "source": [
      "Draw it."
     ]
    },
    {
     "cell_type": "code",
     "collapsed": false,
     "input": [
      "nx.draw(graph)"
     ],
     "language": "python",
     "metadata": {},
     "outputs": [],
     "prompt_number": 6
    },
    {
     "cell_type": "markdown",
     "metadata": {},
     "source": [
      "Find the fastest path from Brooklyn Bridge to 96th Street and Broadway using [Dijkstra's algorithm](http://networkx.lanl.gov/reference/generated/networkx.algorithms.shortest_paths.weighted.dijkstra_path.html)."
     ]
    },
    {
     "cell_type": "code",
     "collapsed": false,
     "input": [
      "nx.dijkstra_path(graph, 'Brooklyn Bridge', '96th Street and Broadway', weight='duration')"
     ],
     "language": "python",
     "metadata": {},
     "outputs": [],
     "prompt_number": 7
    },
    {
     "cell_type": "markdown",
     "metadata": {},
     "source": [
      "Ask how many minutes it will take."
     ]
    },
    {
     "cell_type": "code",
     "collapsed": false,
     "input": [
      "nx.dijkstra_path_length(graph, 'Brooklyn Bridge', '96th Street and Broadway', weight='duration')"
     ],
     "language": "python",
     "metadata": {},
     "outputs": [],
     "prompt_number": 8
    },
    {
     "cell_type": "markdown",
     "metadata": {},
     "source": [
      "Find the fastest path from Union Square to Penn Station using the [A* algorithm](http://networkx.lanl.gov/reference/generated/networkx.algorithms.shortest_paths.astar.astar_path.html)."
     ]
    },
    {
     "cell_type": "code",
     "collapsed": false,
     "input": [
      "nx.astar_path(graph, 'Union Square', 'Penn Station', weight='duration')"
     ],
     "language": "python",
     "metadata": {},
     "outputs": [],
     "prompt_number": 9
    },
    {
     "cell_type": "markdown",
     "metadata": {},
     "source": [
      "Show stations with more than two connections."
     ]
    },
    {
     "cell_type": "code",
     "collapsed": false,
     "input": [
      "[node for node, connectionCount in nx.degree(graph).iteritems() if connectionCount > 2]"
     ],
     "language": "python",
     "metadata": {},
     "outputs": [],
     "prompt_number": 10
    },
    {
     "cell_type": "markdown",
     "metadata": {},
     "source": [
      "Look at the list of shortest path algorithms on the [NetworkX algorithms page](http://networkx.lanl.gov/reference/algorithms.html)."
     ]
    }
   ],
   "metadata": {}
  }
 ]
}