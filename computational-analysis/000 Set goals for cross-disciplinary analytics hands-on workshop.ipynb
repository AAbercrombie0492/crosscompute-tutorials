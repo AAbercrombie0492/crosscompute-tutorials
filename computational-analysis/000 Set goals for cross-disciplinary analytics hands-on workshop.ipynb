{
 "metadata": {
  "name": "000 Set goals for cross-disciplinary analytics hands-on workshop"
 },
 "nbformat": 3,
 "nbformat_minor": 0,
 "worksheets": [
  {
   "cells": [
    {
     "cell_type": "markdown",
     "metadata": {},
     "source": [
      "# Cross-disciplinary analytics hands-on workshop\n",
      "\n",
      "Welcome!\n",
      "\n",
      "    # Install packages on Fedora (30 minutes to 2 hours)\n",
      "    cd ~/Documents\n",
      "    git clone https://github.com/invisibleroads/crosscompute-scripts.git\n",
      "    cd ~/Documents/crosscompute-scripts\n",
      "    bash fabfile.sh\n",
      "\n",
      "    # Download tutorials\n",
      "    cd ~/Documents\n",
      "    git clone https://github.com/invisibleroads/crosscompute-tutorials.git\n",
      "\n",
      "    # Activate virtual environment and start IPython notebook\n",
      "    cd ~/Documents/crosscompute-tutorials\n",
      "    n"
     ]
    },
    {
     "cell_type": "markdown",
     "metadata": {},
     "source": [
      "Introduce yourself to two people whom you have not met before.\n",
      "\n",
      "> Hi, my name is Roy Hyunjin Han of [CrossCompute](https://crosscompute.com).\n",
      "> We enable businesses and policymakers in developing countries to analyze and\n",
      "> interpret data on their own.  Our computational models and visualization tools\n",
      "> are publicly available and runnable via our website.  Each time a user pays\n",
      "> to run an algorithm that is not free, we give eighty percent of the revenue\n",
      "> to its author.  In this way, we encourage applied mathematicians, scientists\n",
      "> and graduate students to rely less on grants and academic publications and \n",
      "> more on developing tools that are accessible to the public.  We also hope\n",
      "> to support open-source developers in the Python community."
     ]
    },
    {
     "cell_type": "markdown",
     "metadata": {},
     "source": [
      "## Skills we will practice\n",
      "\n",
      "- Read documentation to learn usage.\n",
      "- Modify source code to learn techniques.\n",
      "- Interact with data using IPython.\n",
      "\n",
      "## Packages we will cover\n",
      "\n",
      "[numpy](http://docs.scipy.org/doc/numpy/reference)\n",
      "[scipy](http://docs.scipy.org/doc/scipy/reference)\n",
      "[matplotlib](http://matplotlib.sourceforge.net)\n",
      "[scikit-learn](http://scikit-learn.org/dev)\n",
      "[pandas](http://pandas.pydata.org)\n",
      "[statsmodels](http://statsmodels.sourceforge.net)\n",
      "[networkx](http://networkx.lanl.gov)\n",
      "[geometryIO](https://github.com/invisibleroads/geometryIO)\n",
      "[shapely](http://toblerity.github.com/shapely)\n",
      "[pysal](http://pysal.geodacenter.org/dev)"
     ]
    },
    {
     "cell_type": "code",
     "collapsed": false,
     "input": [
      "import numpy, scipy, matplotlib, sklearn, pandas, statsmodels, networkx, geometryIO, shapely, pysal"
     ],
     "language": "python",
     "metadata": {},
     "outputs": [],
     "prompt_number": 1
    },
    {
     "cell_type": "markdown",
     "metadata": {},
     "source": [
      "## Why Python?"
     ]
    },
    {
     "cell_type": "markdown",
     "metadata": {},
     "source": [
      "[PyCon Australia 2011 Keynote: Raymond Hettinger](http://pyvideo.org/video/976/keynote-raymond-hettinger)"
     ]
    },
    {
     "cell_type": "code",
     "collapsed": false,
     "input": [
      "from IPython.lib.display import YouTubeVideo\n",
      "YouTubeVideo('b_pTxGu2L04')"
     ],
     "language": "python",
     "metadata": {},
     "outputs": [],
     "prompt_number": 2
    }
   ],
   "metadata": {}
  }
 ]
}