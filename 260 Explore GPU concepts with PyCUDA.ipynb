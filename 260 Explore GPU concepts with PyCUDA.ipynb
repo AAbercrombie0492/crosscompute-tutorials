{
 "metadata": {
  "name": "260 Explore GPU concepts with PyCUDA"
 },
 "nbformat": 3,
 "worksheets": [
  {
   "cells": [
    {
     "cell_type": "markdown",
     "source": [
      "- [PyCUDA](http://mathema.tician.de/software/pycuda)",
      "- [PyCUDA code repository](https://github.com/inducer/pycuda)",
      "- [PyCUDA code examples](https://github.com/inducer/pycuda/tree/master/examples)",
      "- [PyCUDA code tests](https://github.com/inducer/pycuda/tree/master/test)",
      "- [PyCUDA videos](http://pyvideo.org/search?models=videos.video&q=pycuda)"
     ]
    }
   ]
  }
 ]
}