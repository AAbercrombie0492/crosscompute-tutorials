{
 "metadata": {
  "name": "102 Explore interactively with IPython"
 },
 "nbformat": 3,
 "worksheets": [
  {
   "cells": [
    {
     "cell_type": "markdown",
     "source": [
      "IPython is for interactive Python",
      "=================================",
      "",
      "Interact in a terminal",
      "----------------------",
      "Start IPython in a terminal.",
      "",
      "    ipython",
      "    ipython --pylab   # Plot interactively without having to call pylab.show()"
     ]
    },
    {
     "cell_type": "markdown",
     "source": [
      "Use tab completion.",
      "",
      "    im                # Press TAB to complete keywords",
      "    import o          # Press TAB to complete module names",
      "    import os",
      "    os.               # Press TAB to see module members",
      "    os.a              # Press TAB to see module members that start with the letter a",
      "    import subpr      # Press TAB",
      "    import subprocess",
      "    subprocess.Popen. # Press TAB to see class members"
     ]
    },
    {
     "cell_type": "markdown",
     "source": [
      "Use the question mark.",
      "",
      "    import os",
      "    os?               # See definition of module",
      "    os.path?          # See definition of submodule",
      "    os.path.join?     # See definition of function",
      "    os.path.join??    # See source code of function"
     ]
    },
    {
     "cell_type": "markdown",
     "source": [
      "Use shell command magic.",
      "",
      "    ls",
      "    files = !ls       # Store shell output in a variable",
      "",
      "    cd ~/Doc          # Press TAB",
      "    cd ~/Mus",
      "    cd -              # Press TAB to use directory history",
      "    cd -0",
      "",
      "    x = 'Documents'",
      "    ls ~/$x           # Expand variables in shell commands"
     ]
    },
    {
     "cell_type": "markdown",
     "source": [
      "Use the underscore.",
      "",
      "    1 + 1",
      "    _                 # Press ENTER to use the previous result",
      "    _ + 1             # Press ENTER to use the previous result",
      "",
      "Complete lines using your command history.",
      "",
      "                      # Press UP or DOWN to cycle through previous commands",
      "    i                 # Press CTRL-p or press CTRL-n to see commands from your history starting with the letter i",
      "                      # Press CTRL-r and type the letter o to recall commands from your history containing the letter o",
      "",
      "Use other commands from [readline](http://www.gnu.org/s/readline).",
      "",
      "    import os         # Press CTRL-x and BACKSPACE to clear text before the cursor",
      "    import os         # Press HOME and CTRL-k to clear text after the cursor"
     ]
    },
    {
     "cell_type": "markdown",
     "source": [
      "Cut and paste the following code and IPython will parse it intelligently.",
      "",
      "    >>> def f(x, y):",
      "    ...     print x + y",
      "    >>> f(1, 2)",
      "",
      "    In [1]: print 'hi'"
     ]
    },
    {
     "cell_type": "markdown",
     "source": [
      "Edit a block of commands using your favorite editor.",
      "",
      "    edit",
      "    edit example.py",
      "    run example",
      "",
      "Compare execution speed.",
      "",
      "    timeit 10 ** 10",
      "    timeit pow(10, 10)"
     ]
    },
    {
     "cell_type": "markdown",
     "source": [
      "Examine variables in your session namespace.",
      "",
      "    x, y = 1, 'hi'",
      "    whos",
      "    who",
      "",
      "Examine your command history.",
      "",
      "    hist               # Look at your session command history",
      "    hist -g            # Look at your global command history.",
      "    hist -g join       # Search global command history for the keyword join",
      "    recall 1           # Recall command for editing from history slot number one",
      "    rerun 1            # Rerun command from history slot number one"
     ]
    },
    {
     "cell_type": "markdown",
     "source": [
      "Use other magic commands.",
      "",
      "    import os",
      "    reload(os)         # Reload a previously imported module in case its contents have changed",
      "    /reload os         # reload(os)           Add parentheses",
      "    ; print hi there   # print('hi there')    Add parentheses, quotes",
      "    , print hi there   # print('hi', 'there') Add parentheses, quotes, commas",
      "",
      "    def f(x):",
      "        print x + 1",
      "    f(None)",
      "    pdb                # Toggle automatic debugging",
      "    f(None)",
      "                       # Press CTRL-d to exit the debugger"
     ]
    },
    {
     "cell_type": "markdown",
     "source": [
      "For more readline commands, please see ",
      "[Jan Tomka's sheet](http://jan.tomka.name/sites/default/files/readline-commands.html).",
      "",
      "For more IPython commands, please see the [IPython documentation](http://ipython.org/documentation.html)."
     ]
    },
    {
     "cell_type": "markdown",
     "source": [
      "Interact in a program",
      "---------------------",
      "Drop into the IPython prompt from inside a program to examine variables.",
      "",
      "    def f(text):",
      "        wordCount = len(text.split())",
      "        from IPython import embed; embed() # !!!",
      "        return '%s words' % wordCount",
      "    f('one two three')",
      "    # Type whos",
      "    # Type wordCount",
      "",
      "Drop into the ipdb debugger from inside a program.",
      "",
      "    import ipdb; ipdb.set_trace()"
     ]
    },
    {
     "cell_type": "markdown",
     "source": [
      "Interact in a browser",
      "---------------------",
      "IPython notebook supports TAB completion, question mark querying and shell integration.",
      "",
      "    # Start the server",
      "    ipython notebook --pylab=inline",
      "",
      "In addition, IPython notebook introduces code blocks and text blocks in",
      "[MarkDown](http://daringfireball.net/projects/markdown/syntax) syntax."
     ]
    },
    {
     "cell_type": "code",
     "input": [
      "# Press CTRL-m h to see a list of keyboard shortcuts."
     ],
     "language": "python",
     "outputs": []
    },
    {
     "cell_type": "code",
     "input": [
      "# Press SHIFT-ENTER to execute the current code and go to the next code block.",
      "[x ** 2 for x in xrange(6)]"
     ],
     "language": "python",
     "outputs": []
    },
    {
     "cell_type": "code",
     "input": [
      "# Press CTRL-ENTER to execute the current block in place.",
      "import itertools"
     ],
     "language": "python",
     "outputs": []
    },
    {
     "cell_type": "code",
     "input": [
      "# Type the left parenthesis and pause to see a description of the function's arguments.",
      "itertools.izip"
     ],
     "language": "python",
     "outputs": []
    }
   ]
  }
 ]
}