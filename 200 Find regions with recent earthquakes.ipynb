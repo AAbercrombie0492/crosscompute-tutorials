{
 "metadata": {
  "name": "200 Find regions with recent earthquakes"
 },
 "nbformat": 3,
 "nbformat_minor": 0,
 "worksheets": [
  {
   "cells": [
    {
     "cell_type": "code",
     "collapsed": false,
     "input": [
      "# https://explore.data.gov/Geography-and-Environment/Worldwide-M1-Earthquakes-Past-7-Days/7tag-iwnu\n",
      "from pandas import read_csv\n",
      "recentEarthquakes = read_csv('datasets/World-RecentEarthquakes.csv', index_col=3, parse_dates=True)"
     ],
     "language": "python",
     "metadata": {},
     "outputs": [],
     "prompt_number": 1
    },
    {
     "cell_type": "code",
     "collapsed": false,
     "input": [
      "recentEarthquakes.ix[0]"
     ],
     "language": "python",
     "metadata": {},
     "outputs": [],
     "prompt_number": 2
    },
    {
     "cell_type": "code",
     "collapsed": false,
     "input": [
      "# What was the magnitude of the largest earthquake in past seven days?\n",
      "recentEarthquakes.Magnitude.max()"
     ],
     "language": "python",
     "metadata": {},
     "outputs": [],
     "prompt_number": 3
    },
    {
     "cell_type": "code",
     "collapsed": false,
     "input": [
      "# Which region had the largest earthquake in the past seven days?\n",
      "recentEarthquakes.ix[recentEarthquakes.Magnitude.idxmax()]"
     ],
     "language": "python",
     "metadata": {},
     "outputs": [],
     "prompt_number": 4
    },
    {
     "cell_type": "code",
     "collapsed": false,
     "input": [
      "# Plot recent earthquake magnitudes\n",
      "recentEarthquakes.Magnitude.plot();"
     ],
     "language": "python",
     "metadata": {},
     "outputs": [],
     "prompt_number": 5
    },
    {
     "cell_type": "code",
     "collapsed": false,
     "input": [
      "# Plot recent earthquake magnitudes by the hour\n",
      "recentEarthquakes.resample('H').Magnitude.plot();"
     ],
     "language": "python",
     "metadata": {},
     "outputs": [],
     "prompt_number": 6
    },
    {
     "cell_type": "code",
     "collapsed": false,
     "input": [
      "# Plot recent earthquake magnitudes by the day\n",
      "recentEarthquakes.resample('D').Magnitude.plot();"
     ],
     "language": "python",
     "metadata": {},
     "outputs": [],
     "prompt_number": 7
    },
    {
     "cell_type": "code",
     "collapsed": false,
     "input": [
      "# Which ten regions had the most earthquakes in the past seven days?\n",
      "recentEarthquakes['Region'].value_counts()[:10]"
     ],
     "language": "python",
     "metadata": {},
     "outputs": [],
     "prompt_number": 8
    },
    {
     "cell_type": "code",
     "collapsed": false,
     "input": [
      "# Which ten regions had the largest earthquakes in the past seven days?\n",
      "recentEarthquakes.groupby('Region').max()['Magnitude'].order(ascending=False)[:10]"
     ],
     "language": "python",
     "metadata": {},
     "outputs": [],
     "prompt_number": 9
    },
    {
     "cell_type": "code",
     "collapsed": false,
     "input": [
      "# Convert all coordinates to spherical mercator\n",
      "from geometryIO import get_transformPoint, proj4LL, proj4SM\n",
      "from pandas import Series\n",
      "\n",
      "transformPoint = get_transformPoint(proj4LL, proj4SM)\n",
      "\n",
      "def transform_row(row):\n",
      "    x, y = transformPoint(row['Lon'], row['Lat'])\n",
      "    return Series(dict(row.to_dict(), **{'X': x, 'Y': y}))\n",
      "recentEarthquakesXY = recentEarthquakes.apply(transform_row, axis=1)\n",
      "recentEarthquakesXY.ix[0]"
     ],
     "language": "python",
     "metadata": {},
     "outputs": [],
     "prompt_number": 10
    }
   ],
   "metadata": {}
  }
 ]
}