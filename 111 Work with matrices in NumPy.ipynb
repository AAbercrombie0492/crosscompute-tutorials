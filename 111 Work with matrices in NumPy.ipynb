{
 "metadata": {
  "name": "111 Work with matrices in NumPy"
 },
 "nbformat": 3,
 "worksheets": [
  {
   "cells": [
    {
     "cell_type": "markdown",
     "source": [
      "NumPy is for multidimensional array operations",
      "==============================================",
      "NumPy specializes in fast operations on arrays and parts of arrays."
     ]
    },
    {
     "cell_type": "code",
     "input": [
      "import numpy as np"
     ],
     "language": "python",
     "outputs": []
    },
    {
     "cell_type": "markdown",
     "source": [
      "Make an array",
      "-------------",
      "Make an array from a list."
     ]
    },
    {
     "cell_type": "code",
     "input": [
      "np.array([1, 2, 3])"
     ],
     "language": "python",
     "outputs": []
    },
    {
     "cell_type": "code",
     "input": [
      "np.array([[1, 2], [3, 4]])"
     ],
     "language": "python",
     "outputs": []
    },
    {
     "cell_type": "markdown",
     "source": [
      "Make an array using a function."
     ]
    },
    {
     "cell_type": "code",
     "input": [
      "np.zeros((2, 3))"
     ],
     "language": "python",
     "outputs": []
    },
    {
     "cell_type": "code",
     "input": [
      "np.ones((3, 2))"
     ],
     "language": "python",
     "outputs": []
    },
    {
     "cell_type": "code",
     "input": [
      "# Make an array by starting at 0, incrementing by 2 and ending before 10",
      "np.arange(0, 10, 2)"
     ],
     "language": "python",
     "outputs": []
    },
    {
     "cell_type": "code",
     "input": [
      "# Make an array of four evenly spaced numbers including both endpoints",
      "np.linspace(0, 1, 4)"
     ],
     "language": "python",
     "outputs": []
    },
    {
     "cell_type": "code",
     "input": [
      "# Make an array evenly spaced on a log scale",
      "x = np.logspace(0, 1, 4)",
      "# Show that the two arrays are equivalent",
      "np.allclose(x, 10 ** np.linspace(0, 1, 4))"
     ],
     "language": "python",
     "outputs": []
    },
    {
     "cell_type": "code",
     "input": [
      "# Check execution speed",
      "%timeit np.logspace(0, 1, 4)",
      "%timeit 10 ** np.linspace(0, 1, 4)"
     ],
     "language": "python",
     "outputs": []
    },
    {
     "cell_type": "markdown",
     "source": [
      "Access parts of an array by indexing",
      "------------------------------------",
      "Access elements of a 1-dimensional array."
     ]
    },
    {
     "cell_type": "code",
     "input": [
      "x = np.arange(4)",
      "print x",
      "print x[0]  # Get the first element",
      "print x[-1] # Get the last element"
     ],
     "language": "python",
     "outputs": []
    },
    {
     "cell_type": "markdown",
     "source": [
      "Access elements of a multidimensional array."
     ]
    },
    {
     "cell_type": "code",
     "input": [
      "x = np.arange(6).reshape(2, 3)",
      "print x"
     ],
     "language": "python",
     "outputs": []
    },
    {
     "cell_type": "code",
     "input": [
      "print x[-1]     # Get the last row",
      "print x[-1, -1] # Get the last element of the last row"
     ],
     "language": "python",
     "outputs": []
    },
    {
     "cell_type": "code",
     "input": [
      "%timeit x[0, 0] # Faster",
      "%timeit x[0][0]"
     ],
     "language": "python",
     "outputs": []
    },
    {
     "cell_type": "markdown",
     "source": [
      "Access slices of an array using colons."
     ]
    },
    {
     "cell_type": "code",
     "input": [
      "x = np.arange(10)",
      "print x",
      "print x[:3]  # Get the first three elements",
      "print x[-3:] # Get the last three elements",
      "print x[1:4] # Get some elements in the middle"
     ],
     "language": "python",
     "outputs": []
    },
    {
     "cell_type": "code",
     "input": [
      "print x[::2] # Get every second element",
      "print x[::3] # Get every third element"
     ],
     "language": "python",
     "outputs": []
    },
    {
     "cell_type": "code",
     "input": [
      "x = np.arange(25).reshape(5, 5)",
      "print x"
     ],
     "language": "python",
     "outputs": []
    },
    {
     "cell_type": "code",
     "input": [
      "print x[:2, :2]   # Get the first two columns and the first two rows"
     ],
     "language": "python",
     "outputs": []
    },
    {
     "cell_type": "code",
     "input": [
      "print x[::2, ::2] # Get every second column of every second row"
     ],
     "language": "python",
     "outputs": []
    },
    {
     "cell_type": "markdown",
     "source": [
      "Access parts of an array with index arrays."
     ]
    },
    {
     "cell_type": "code",
     "input": [
      "# Generate six random integers between 0 and 9 inclusive",
      "x = np.random.random_integers(0, 9, 6) ",
      "print x"
     ],
     "language": "python",
     "outputs": []
    },
    {
     "cell_type": "code",
     "input": [
      "# Get the first number and the last two numbers",
      "indices = [0, -2, -1]",
      "print x[indices]"
     ],
     "language": "python",
     "outputs": []
    },
    {
     "cell_type": "code",
     "input": [
      "# Make a random set of indices and use it for two arrays",
      "arrayLength = 5",
      "x1 = np.arange(arrayLength)",
      "x2 = np.arange(arrayLength) * -1",
      "indices = np.random.permutation(arrayLength)",
      "print x1[indices]",
      "print x2[indices]"
     ],
     "language": "python",
     "outputs": []
    },
    {
     "cell_type": "code",
     "input": [
      "# Use a multidimensional index array",
      "x = np.random.random_integers(0, 9, 3)",
      "indices = np.array([[0, 1], [1, 2]])",
      "print 'Candidates = %s' % x",
      "print x[indices]"
     ],
     "language": "python",
     "outputs": []
    },
    {
     "cell_type": "markdown",
     "source": [
      "Filter arrays by element value with boolean index arrays."
     ]
    },
    {
     "cell_type": "code",
     "input": [
      "x = np.arange(5)",
      "print x"
     ],
     "language": "python",
     "outputs": []
    },
    {
     "cell_type": "code",
     "input": [
      "print x > 2"
     ],
     "language": "python",
     "outputs": []
    },
    {
     "cell_type": "code",
     "input": [
      "print x[x > 2]"
     ],
     "language": "python",
     "outputs": []
    },
    {
     "cell_type": "markdown",
     "source": [
      "Include whole dimensions with a colon or ellipsis."
     ]
    },
    {
     "cell_type": "code",
     "input": [
      "x = np.arange(16).reshape(2, 2, 2, 2)",
      "print x"
     ],
     "language": "python",
     "outputs": []
    },
    {
     "cell_type": "code",
     "input": [
      "print x[0]"
     ],
     "language": "python",
     "outputs": []
    },
    {
     "cell_type": "code",
     "input": [
      "print x[0, 0]"
     ],
     "language": "python",
     "outputs": []
    },
    {
     "cell_type": "code",
     "input": [
      "print x[0, 0, 0]"
     ],
     "language": "python",
     "outputs": []
    },
    {
     "cell_type": "code",
     "input": [
      "print x[0, 0, 0, 0]",
      "print x[0, 0, 1, 0]",
      "print x[0, 0, :, 0]"
     ],
     "language": "python",
     "outputs": []
    },
    {
     "cell_type": "code",
     "input": [
      "print x[0, 1, 0, 0]",
      "print x[0, 1, 1, 0]",
      "print x[0, 1, :, 0]"
     ],
     "language": "python",
     "outputs": []
    },
    {
     "cell_type": "code",
     "input": [
      "print x[0, :, :, 0]"
     ],
     "language": "python",
     "outputs": []
    },
    {
     "cell_type": "code",
     "input": [
      "print x[0, ..., 0]"
     ],
     "language": "python",
     "outputs": []
    },
    {
     "cell_type": "markdown",
     "source": [
      "Build indices programmatically."
     ]
    },
    {
     "cell_type": "code",
     "input": [
      "x = np.arange(16).reshape(2, 2, 2, 2)",
      "indices = [0, slice(x.shape[1]), slice(x.shape[2]), 0]",
      "print x[indices] # x[0, :, :, 0]",
      "indices = [0, Ellipsis, 0]",
      "print x[indices] # x[0, ..., 0]"
     ],
     "language": "python",
     "outputs": []
    },
    {
     "cell_type": "markdown",
     "source": [
      "Change parts of an array by indexing",
      "------------------------------------"
     ]
    },
    {
     "cell_type": "code",
     "input": [
      "x = zeros((5, 5))",
      "print x"
     ],
     "language": "python",
     "outputs": []
    },
    {
     "cell_type": "code",
     "input": [
      "x[1:4, 1:4] = 1",
      "print x"
     ],
     "language": "python",
     "outputs": []
    },
    {
     "cell_type": "markdown",
     "source": [
      "Combine arrays by concatenating",
      "-------------------------------"
     ]
    },
    {
     "cell_type": "code",
     "input": [
      "x = np.array([1, 2])",
      "y = np.array([3, 4])",
      "print 'Concatenate along the first axis.'",
      "print np.r_[x, y]",
      "print 'Concatenate along the second axis.'",
      "print np.c_[x, y]"
     ],
     "language": "python",
     "outputs": []
    },
    {
     "cell_type": "markdown",
     "source": [
      "Combine arrays of different dimensions by broadcasting",
      "------------------------------------------------------",
      "Broadcast a scalar over a matrix."
     ]
    },
    {
     "cell_type": "code",
     "input": [
      "x = np.arange(9).reshape(3, 3)",
      "print x"
     ],
     "language": "python",
     "outputs": []
    },
    {
     "cell_type": "code",
     "input": [
      "print x + 10"
     ],
     "language": "python",
     "outputs": []
    },
    {
     "cell_type": "markdown",
     "source": [
      "Broadcast a vector over a matrix."
     ]
    },
    {
     "cell_type": "code",
     "input": [
      "y = np.ones(3)",
      "print y"
     ],
     "language": "python",
     "outputs": []
    },
    {
     "cell_type": "code",
     "input": [
      "x + y"
     ],
     "language": "python",
     "outputs": []
    },
    {
     "cell_type": "markdown",
     "source": [
      "Broadcast scalars over vectors."
     ]
    },
    {
     "cell_type": "code",
     "input": [
      "x = np.arange(5)",
      "print x"
     ],
     "language": "python",
     "outputs": []
    },
    {
     "cell_type": "code",
     "input": [
      "print x[:, None] # Add a dimension"
     ],
     "language": "python",
     "outputs": []
    },
    {
     "cell_type": "code",
     "input": [
      "print x[None, :] # Add a dimension"
     ],
     "language": "python",
     "outputs": []
    },
    {
     "cell_type": "code",
     "input": [
      "print x[:, None] + x[None, :]"
     ],
     "language": "python",
     "outputs": []
    },
    {
     "cell_type": "markdown",
     "source": [
      "Process arrays",
      "--------------"
     ]
    },
    {
     "cell_type": "code",
     "input": [
      "x = np.arange(4)",
      "print x"
     ],
     "language": "python",
     "outputs": []
    },
    {
     "cell_type": "code",
     "input": [
      "y = x.reshape(2, 2)",
      "print y"
     ],
     "language": "python",
     "outputs": []
    },
    {
     "cell_type": "code",
     "input": [
      "print y.ravel()"
     ],
     "language": "python",
     "outputs": []
    },
    {
     "cell_type": "code",
     "input": [
      "print y.sum()",
      "print y.sum(axis=0)",
      "print y.sum(axis=1)"
     ],
     "language": "python",
     "outputs": []
    },
    {
     "cell_type": "code",
     "input": [
      "print y.mean()",
      "print y.mean(axis=0)",
      "print y.mean(axis=1)"
     ],
     "language": "python",
     "outputs": []
    },
    {
     "cell_type": "code",
     "input": [
      "print y.std()",
      "print y.std(axis=0)",
      "print y.std(axis=1)"
     ],
     "language": "python",
     "outputs": []
    },
    {
     "cell_type": "code",
     "input": [
      "np.dot([1, 2], [3,4])"
     ],
     "language": "python",
     "outputs": []
    },
    {
     "cell_type": "markdown",
     "source": [
      "Save and load arrays",
      "--------------------"
     ]
    },
    {
     "cell_type": "code",
     "input": [
      "import os",
      "filePath = os.path.expandvars('$HOME/Downloads/matrix.npy')",
      "# Save an array in .npy format",
      "np.save(filePath, [1, 2, 3])",
      "# Load an array in .npy format",
      "np.load(filePath)"
     ],
     "language": "python",
     "outputs": []
    },
    {
     "cell_type": "code",
     "input": [
      "import os",
      "filePath = os.path.expandvars('$HOME/Downloads/matrix.npz')",
      "# Save multiple arrays in .npz format",
      "np.savez(filePath, a=[1, 2], b=[3, 4])",
      "# Load multiple arrays in .npz format",
      "np.load(filePath).items()"
     ],
     "language": "python",
     "outputs": []
    },
    {
     "cell_type": "code",
     "input": [
      "import os",
      "import h5py",
      "filePath = os.path.expandvars('$HOME/Downloads/matrix.hdf5')",
      "# Save huge arrays in hdf5 format",
      "h5pyFile = h5py.File(filePath, 'w')",
      "h5pyFile.create_dataset('a', data=[1, 2])",
      "h5pyFile.create_dataset('b', data=[3, 4])",
      "h5pyFile.close()",
      "# Load huge arrays in hdf5 format",
      "h5pyFile = h5py.File(filePath, 'r')",
      "print h5pyFile.items()",
      "h5pyFile.close()"
     ],
     "language": "python",
     "outputs": []
    }
   ]
  }
 ]
}