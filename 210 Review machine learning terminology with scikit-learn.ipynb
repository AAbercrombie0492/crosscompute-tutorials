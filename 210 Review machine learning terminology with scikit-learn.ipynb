{
 "metadata": {
  "name": "210 Review machine learning terminology with scikit-learn"
 },
 "nbformat": 3,
 "worksheets": [
  {
   "cells": [
    {
     "cell_type": "markdown",
     "source": [
      "Machine learning"
     ]
    },
    {
     "cell_type": "markdown",
     "source": [
      "Supervised learning"
     ]
    },
    {
     "cell_type": "markdown",
     "source": [
      "Semi-supervised learning"
     ]
    },
    {
     "cell_type": "markdown",
     "source": [
      "Unsupervised learning"
     ]
    },
    {
     "cell_type": "markdown",
     "source": [
      "Deep learning"
     ]
    },
    {
     "cell_type": "markdown",
     "source": [
      "Model selection"
     ]
    },
    {
     "cell_type": "markdown",
     "source": [
      "[Pipelining](http://scikit-learn.org/dev/modules/pipeline.html)"
     ]
    },
    {
     "cell_type": "code",
     "input": [
      "# Adapted from ",
      "# http://scikit-learn.org/dev/tutorial/statistical_inference/putting_together.html",
      "from sklearn import linear_model, decomposition, datasets",
      "from sklearn.grid_search import GridSearchCV",
      "from sklearn.pipeline import Pipeline",
      "",
      "pipe = Pipeline(steps=[",
      "    ('pca', decomposition.PCA()), ",
      "    ('logistic', linear_model.LogisticRegression()),",
      "])",
      "estimator = GridSearchCV(pipe, dict(",
      "    pca__n_components=[20, 40, 64],",
      "    logistic__C=[0.0001, 1, 10000]))",
      "",
      "digits = datasets.load_digits()",
      "estimator.fit(digits.data, digits.target)",
      "print estimator.best_estimator_.named_steps['pca'].n_components",
      "print estimator.best_estimator_.named_steps['logistic'].C"
     ],
     "language": "python",
     "outputs": [
      {
       "output_type": "stream",
       "stream": "stdout",
       "text": [
        "40",
        "1.0",
        ""
       ]
      }
     ],
     "prompt_number": 11
    }
   ]
  }
 ]
}