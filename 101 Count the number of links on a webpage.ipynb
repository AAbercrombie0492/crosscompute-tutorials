{
 "metadata": {
  "name": "101 Count the number of links on a webpage"
 },
 "nbformat": 3,
 "worksheets": [
  {
   "cells": [
    {
     "cell_type": "markdown",
     "source": [
      "# Strings",
      "",
      "Count the number of letters in a string."
     ]
    },
    {
     "cell_type": "code",
     "input": [
      "sentence = 'and did those feet in ancient time'",
      "len(sentence)"
     ],
     "language": "python",
     "outputs": []
    },
    {
     "cell_type": "markdown",
     "source": [
      "Convert a string to title case."
     ]
    },
    {
     "cell_type": "code",
     "input": [
      "sentence.title()"
     ],
     "language": "python",
     "outputs": []
    },
    {
     "cell_type": "markdown",
     "source": [
      "# Lists",
      "",
      "Split a string into a list of words."
     ]
    },
    {
     "cell_type": "code",
     "input": [
      "words = 'welcome to all the pleasures that'.split()",
      "words"
     ],
     "language": "python",
     "outputs": []
    },
    {
     "cell_type": "markdown",
     "source": [
      "Append words to the list."
     ]
    },
    {
     "cell_type": "code",
     "input": [
      "words.append('delight')",
      "words.extend('of ev\\'ry sense the grateful appetite'.split())",
      "words"
     ],
     "language": "python",
     "outputs": []
    },
    {
     "cell_type": "markdown",
     "source": [
      "Sort the list."
     ]
    },
    {
     "cell_type": "code",
     "input": [
      "sorted(words)"
     ],
     "language": "python",
     "outputs": []
    },
    {
     "cell_type": "markdown",
     "source": [
      "Sort the list by word length."
     ]
    },
    {
     "cell_type": "code",
     "input": [
      "sorted(words, key=lambda word: len(word))"
     ],
     "language": "python",
     "outputs": []
    },
    {
     "cell_type": "markdown",
     "source": [
      "Make a list of the first two letters of each sorted word using a list comprehension."
     ]
    },
    {
     "cell_type": "code",
     "input": [
      "[word[:2] for word in sorted(words)]"
     ],
     "language": "python",
     "outputs": []
    },
    {
     "cell_type": "markdown",
     "source": [
      "Get the length of each sorted word."
     ]
    },
    {
     "cell_type": "code",
     "input": [
      "# Type your solution here and press CTRL-ENTER"
     ],
     "language": "python",
     "outputs": []
    },
    {
     "cell_type": "markdown",
     "source": [
      "# Dictionaries",
      "",
      "Make a dictionary of state names."
     ]
    },
    {
     "cell_type": "code",
     "input": [
      "codeByState = {'California': 'CA', 'New York': 'NY', 'Virginia': 'VA'}",
      "codeByState"
     ],
     "language": "python",
     "outputs": []
    },
    {
     "cell_type": "code",
     "input": [
      "codeByState.keys()"
     ],
     "language": "python",
     "outputs": []
    },
    {
     "cell_type": "code",
     "input": [
      "codeByState['Florida'] = 'FL'",
      "codeByState"
     ],
     "language": "python",
     "outputs": []
    },
    {
     "cell_type": "code",
     "input": [
      "codeByState['New York']"
     ],
     "language": "python",
     "outputs": []
    },
    {
     "cell_type": "markdown",
     "source": [
      "Make a dictionary of state codes using a dictionary comprehension."
     ]
    },
    {
     "cell_type": "code",
     "input": [
      "stateByCode = {code: state for state, code in codeByState.iteritems()}",
      "stateByCode"
     ],
     "language": "python",
     "outputs": []
    },
    {
     "cell_type": "code",
     "input": [
      "# Get the state name for VA",
      "stateByCode['VA']"
     ],
     "language": "python",
     "outputs": []
    },
    {
     "cell_type": "markdown",
     "source": [
      "Dictionaries are flexible."
     ]
    },
    {
     "cell_type": "code",
     "input": [
      "import csv",
      "stateByCode = {code: state for state, code in csv.reader(open('us-state-abbreviations.csv'))}",
      "stateByCode['MA']"
     ],
     "language": "python",
     "outputs": []
    },
    {
     "cell_type": "code",
     "input": [
      "import collections",
      "codesByLetter = collections.defaultdict(list)",
      "for code in stateByCode:",
      "    letter = code[0].lower()",
      "    codesByLetter[letter].append(code)",
      "print codesByLetter['a']",
      "print codesByLetter['m']"
     ],
     "language": "python",
     "outputs": []
    },
    {
     "cell_type": "markdown",
     "source": [
      "# Functions",
      "",
      "Define a function."
     ]
    },
    {
     "cell_type": "code",
     "input": [
      "def add(x, y):",
      "    return x + y",
      "",
      "add(1, 2)"
     ],
     "language": "python",
     "outputs": []
    },
    {
     "cell_type": "code",
     "input": [
      "multiply = lambda x, y: x * y",
      "multiply(1, 2)"
     ],
     "language": "python",
     "outputs": []
    },
    {
     "cell_type": "markdown",
     "source": [
      "Functions are flexible."
     ]
    },
    {
     "cell_type": "code",
     "input": [
      "methods = [add, multiply]",
      "methods"
     ],
     "language": "python",
     "outputs": []
    },
    {
     "cell_type": "code",
     "input": [
      "import random",
      "for x in xrange(5):",
      "    combine = random.choice(methods)",
      "    print combine(4, 5)"
     ],
     "language": "python",
     "outputs": []
    },
    {
     "cell_type": "markdown",
     "source": [
      "Define a function that returns a list of links on a webpage."
     ]
    },
    {
     "cell_type": "code",
     "input": [
      "from bs4 import BeautifulSoup",
      "from urllib2 import urlopen",
      "",
      "def get_links(url):",
      "    html = urlopen(url).read()",
      "    links = BeautifulSoup(html).find_all('a')",
      "    return [link.get('href') for link in links]"
     ],
     "language": "python",
     "outputs": []
    },
    {
     "cell_type": "markdown",
     "source": [
      "Look at the first five links on a webpage."
     ]
    },
    {
     "cell_type": "code",
     "input": [
      "get_links('http://google.com')[:5]"
     ],
     "language": "python",
     "outputs": []
    },
    {
     "cell_type": "markdown",
     "source": [
      "Count the number of links on a webpage."
     ]
    },
    {
     "cell_type": "code",
     "input": [
      "# Type your solution here and press CTRL-ENTER"
     ],
     "language": "python",
     "outputs": []
    },
    {
     "cell_type": "markdown",
     "source": [
      "# Classes",
      "",
      "Classes can contain variables and methods."
     ]
    },
    {
     "cell_type": "code",
     "input": [
      "class Animal(object):",
      "    ",
      "    def __init__(self, name):",
      "        self.name = name",
      "        self.stomach = []",
      "        ",
      "    def __repr__(self):",
      "        return self.name",
      "        ",
      "    def ask(self):",
      "        return '%s is %s.' % (self.name, 'full' if self.stomach else 'hungry')",
      "              ",
      "    def eat(self, food):",
      "        if food in self.stomach:",
      "            print '%s already ate %s.' % (self.name, food)",
      "        else:",
      "            print '%s eats %s!' % (self.name, food)",
      "            self.stomach.append(food)"
     ],
     "language": "python",
     "outputs": []
    },
    {
     "cell_type": "code",
     "input": [
      "turtle = Animal('Donatello')",
      "dinosaur = Animal('Barney')",
      "monster = Animal('Cookie Monster')"
     ],
     "language": "python",
     "outputs": []
    },
    {
     "cell_type": "code",
     "input": [
      "monster.ask()"
     ],
     "language": "python",
     "outputs": []
    },
    {
     "cell_type": "code",
     "input": [
      "monster.eat(turtle)"
     ],
     "language": "python",
     "outputs": []
    },
    {
     "cell_type": "code",
     "input": [
      "monster.eat(turtle)"
     ],
     "language": "python",
     "outputs": []
    },
    {
     "cell_type": "code",
     "input": [
      "monster.stomach"
     ],
     "language": "python",
     "outputs": []
    },
    {
     "cell_type": "code",
     "input": [
      "turtle in monster.stomach"
     ],
     "language": "python",
     "outputs": []
    },
    {
     "cell_type": "code",
     "input": [
      "dinosaur in monster.stomach"
     ],
     "language": "python",
     "outputs": []
    }
   ]
  }
 ]
}