{
 "metadata": {
  "name": "121 Harness machine learning with scikit-learn"
 },
 "nbformat": 3,
 "worksheets": [
  {
   "cells": [
    {
     "cell_type": "markdown",
     "source": [
      "# Build a machine that makes decisions",
      "The goal is to build a machine that make decisions automatically",
      "using information it has not seen before, and whose performance",
      "improves with experience. The approach in machine learning is to ",
      "develop algorithms that make decisions using a model fitted on data.",
      "",
      "# Machine learning is easy with scikit-learn",
      "The scikit-learn package is a collection of machine learning algorithms",
      "that share a common usage pattern:",
      "",
      "- Make data.",
      "- Pick model.",
      "- Fit model parameters to data.",
      "- Predict using fitted model."
     ]
    },
    {
     "cell_type": "code",
     "input": [
      "from sklearn import datasets, neighbors",
      "iris = datasets.load_iris()",
      "model = neighbors.KNeighborsClassifier()",
      "model.fit(iris.data, iris.target)",
      "model.predict([7.5, 3, 6.5, 2])"
     ],
     "language": "python",
     "outputs": [
      {
       "output_type": "pyout",
       "prompt_number": 1,
       "text": [
        "array([2])"
       ]
      }
     ],
     "prompt_number": 1
    },
    {
     "cell_type": "markdown",
     "source": [
      "# Which algorithm do we use?"
     ]
    },
    {
     "cell_type": "code",
     "input": [
      "from sklearn import datasets, svm, neighbors",
      "digits = datasets.load_digits()",
      "X = digits.data",
      "y = digits.target",
      "trainingSet = X[:-100], y[:-100]",
      "testSet = X[-100:], y[-100:]",
      "",
      "def evaluate_model(model):",
      "    return model.fit(*trainingSet).score(*testSet)"
     ],
     "language": "python",
     "outputs": [],
     "prompt_number": 10
    },
    {
     "cell_type": "code",
     "input": [
      "evaluate_model(neighbors.KNeighborsClassifier(n_neighbors=5))"
     ],
     "language": "python",
     "outputs": [
      {
       "output_type": "stream",
       "stream": "stderr",
       "text": [
        "/home/rhh/.virtualenv/opt/scikit-learn/sklearn/neighbors/classification.py:129: NeighborsWarning: kneighbors: neighbor k+1 and neighbor k have the same distance: results will be dependent on data order.",
        "  neigh_dist, neigh_ind = self.kneighbors(X)",
        ""
       ]
      },
      {
       "output_type": "pyout",
       "prompt_number": 14,
       "text": [
        "0.97999999999999998"
       ]
      }
     ],
     "prompt_number": 14
    },
    {
     "cell_type": "code",
     "input": [
      "evaluate_model(neighbors.KNeighborsClassifier(n_neighbors=20))"
     ],
     "language": "python",
     "outputs": [
      {
       "output_type": "stream",
       "stream": "stderr",
       "text": [
        "/home/rhh/.virtualenv/opt/scikit-learn/sklearn/neighbors/classification.py:129: NeighborsWarning: kneighbors: neighbor k+1 and neighbor k have the same distance: results will be dependent on data order.",
        "  neigh_dist, neigh_ind = self.kneighbors(X)",
        ""
       ]
      },
      {
       "output_type": "pyout",
       "prompt_number": 15,
       "text": [
        "0.96999999999999997"
       ]
      }
     ],
     "prompt_number": 15
    },
    {
     "cell_type": "code",
     "input": [
      "evaluate_model(svm.SVC(C=1, kernel='linear'))"
     ],
     "language": "python",
     "outputs": [
      {
       "output_type": "pyout",
       "prompt_number": 11,
       "text": [
        "0.97999999999999998"
       ]
      }
     ],
     "prompt_number": 11
    },
    {
     "cell_type": "markdown",
     "source": [
      "[Cross-validation](http://scikit-learn.org/dev/model_selection.html) is a way to evaluate models and model parameters systematically.",
      "",
      "[Pipelining](http://scikit-learn.org/dev/modules/pipeline.html) lets you evaluate the parameters of preprocessing steps as well."
     ]
    },
    {
     "cell_type": "markdown",
     "source": [
      "- [scikit-learn documentation](http://scikit-learn.org/dev/)",
      "- [scikit-learn supervised learning tutorial](http://scikit-learn.org/dev/tutorial/statistical_inference/supervised_learning.html)",
      "- [scikit-learn model selection](http://scikit-learn.org/dev/tutorial/statistical_inference/model_selection.html)",
      "- [scikit-learn unsupervised learning](http://scikit-learn.org/dev/tutorial/statistical_inference/unsupervised_learning.html)"
     ]
    }
   ]
  }
 ]
}