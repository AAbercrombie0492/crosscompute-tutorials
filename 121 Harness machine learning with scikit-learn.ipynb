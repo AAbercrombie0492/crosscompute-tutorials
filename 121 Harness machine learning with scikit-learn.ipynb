{
 "metadata": {
  "name": "121 Harness machine learning with scikit-learn"
 },
 "nbformat": 3,
 "nbformat_minor": 0,
 "worksheets": [
  {
   "cells": [
    {
     "cell_type": "markdown",
     "metadata": {},
     "source": [
      "# Build a machine that makes decisions\n",
      "The goal is to build a machine that make decisions automatically\n",
      "using information it has not seen before, and whose performance\n",
      "improves with experience. The approach in machine learning is to \n",
      "develop algorithms that make decisions using a model fitted on data.\n",
      "\n",
      "# Machine learning is easy with scikit-learn\n",
      "The scikit-learn package is a collection of machine learning algorithms\n",
      "that share a common usage pattern:\n",
      "\n",
      "- Make data.\n",
      "- Pick model.\n",
      "- Fit model parameters to data.\n",
      "- Predict using fitted model."
     ]
    },
    {
     "cell_type": "code",
     "collapsed": false,
     "input": [
      "from sklearn import datasets, neighbors\n",
      "iris = datasets.load_iris()\n",
      "model = neighbors.KNeighborsClassifier()\n",
      "model.fit(iris.data, iris.target)\n",
      "model.predict([7.5, 3, 6.5, 2])"
     ],
     "language": "python",
     "metadata": {},
     "outputs": []
    },
    {
     "cell_type": "markdown",
     "metadata": {},
     "source": [
      "# Which algorithm do we use?"
     ]
    },
    {
     "cell_type": "code",
     "collapsed": false,
     "input": [
      "from sklearn import datasets, svm, neighbors\n",
      "digits = datasets.load_digits()\n",
      "X = digits.data\n",
      "y = digits.target\n",
      "trainingSet = X[:-100], y[:-100]\n",
      "testSet = X[-100:], y[-100:]\n",
      "\n",
      "def evaluate_model(model):\n",
      "    return model.fit(*trainingSet).score(*testSet)"
     ],
     "language": "python",
     "metadata": {},
     "outputs": []
    },
    {
     "cell_type": "code",
     "collapsed": false,
     "input": [
      "evaluate_model(neighbors.KNeighborsClassifier(n_neighbors=5))"
     ],
     "language": "python",
     "metadata": {},
     "outputs": []
    },
    {
     "cell_type": "code",
     "collapsed": false,
     "input": [
      "evaluate_model(neighbors.KNeighborsClassifier(n_neighbors=20))"
     ],
     "language": "python",
     "metadata": {},
     "outputs": []
    },
    {
     "cell_type": "code",
     "collapsed": false,
     "input": [
      "evaluate_model(svm.SVC(C=1, kernel='linear'))"
     ],
     "language": "python",
     "metadata": {},
     "outputs": []
    },
    {
     "cell_type": "markdown",
     "metadata": {},
     "source": [
      "[Cross-validation](http://scikit-learn.org/dev/model_selection.html) is a way to evaluate models and model parameters systematically.\n",
      "\n",
      "[Pipelining](http://scikit-learn.org/dev/modules/pipeline.html) lets you evaluate the parameters of preprocessing steps as well."
     ]
    },
    {
     "cell_type": "markdown",
     "metadata": {},
     "source": [
      "- [scikit-learn documentation](http://scikit-learn.org/dev/)\n",
      "- [scikit-learn supervised learning tutorial](http://scikit-learn.org/dev/tutorial/statistical_inference/supervised_learning.html)\n",
      "- [scikit-learn model selection](http://scikit-learn.org/dev/tutorial/statistical_inference/model_selection.html)\n",
      "- [scikit-learn unsupervised learning](http://scikit-learn.org/dev/tutorial/statistical_inference/unsupervised_learning.html)"
     ]
    }
   ],
   "metadata": {}
  }
 ]
}