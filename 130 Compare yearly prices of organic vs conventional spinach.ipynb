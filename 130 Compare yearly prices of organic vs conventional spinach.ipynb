{
 "metadata": {
  "name": "130 Compare yearly prices of organic vs conventional spinach"
 },
 "nbformat": 3,
 "worksheets": [
  {
   "cells": [
    {
     "cell_type": "code",
     "input": [
      "import pandas",
      "import numpy as np"
     ],
     "language": "python",
     "outputs": [],
     "prompt_number": 38
    },
    {
     "cell_type": "markdown",
     "source": [
      "Look at spinach prices from the [US food prices dataset](https://explore.data.gov/download/gufi-iknc/XLS)."
     ]
    },
    {
     "cell_type": "code",
     "input": [
      "import os",
      "from urllib2 import urlopen",
      "dataPath = 'food-prices.xls'",
      "if not os.path.exists(dataPath):",
      "    dataURL = 'https://explore.data.gov/download/gufi-iknc/XLS'",
      "    open(dataPath, 'wt').write(urlopen(dataURL).read())"
     ],
     "language": "python",
     "outputs": []
    },
    {
     "cell_type": "code",
     "input": [
      "excelFile = pandas.ExcelFile('spinach-prices.xls')",
      "excelFile.sheet_names"
     ],
     "language": "python",
     "outputs": []
    },
    {
     "cell_type": "code",
     "input": [
      "organicSpinachFrame = excelFile.parse('organic', index_col=0)",
      "conventionalSpinachFrame = excelFile.parse('conventional', index_col=0)",
      "conventionalSpinachFrame"
     ],
     "language": "python",
     "outputs": []
    },
    {
     "cell_type": "markdown",
     "source": [
      "Rearrange DataFrame into a Series with a MultiIndex."
     ]
    },
    {
     "cell_type": "code",
     "input": [
      "organicSpinachHierarchicalSeries = organicSpinachFrame.stack()",
      "conventionalSpinachHierarchicalSeries = conventionalSpinachFrame.stack()",
      "conventionalSpinachHierarchicalSeries"
     ],
     "language": "python",
     "outputs": []
    },
    {
     "cell_type": "markdown",
     "source": [
      "Combine year and month into a single index."
     ]
    },
    {
     "cell_type": "code",
     "input": [
      "organicSpinachHierarchicalSeries.index"
     ],
     "language": "python",
     "outputs": []
    },
    {
     "cell_type": "code",
     "input": [
      "def parse_indexEntry(indexEntry):",
      "    return datetime.datetime.strptime('%d %s' % indexEntry, '%Y %b').date()",
      "parse_indexEntry(organicSpinachHierarchicalSeries.index[0])"
     ],
     "language": "python",
     "outputs": []
    },
    {
     "cell_type": "code",
     "input": [
      "def flatten_index(hierarchicalSeries):",
      "    return pandas.Series(hierarchicalSeries,",
      "        index=[parse_indexEntry(x) for x in hierarchicalSeries.index])",
      "organicSpinachSeries = flatten_index(organicSpinachHierarchicalSeries)",
      "conventionalSpinachSeries = flatten_index(conventionalSpinachHierarchicalSeries)",
      "conventionalSpinachSeries[:5]"
     ],
     "language": "python",
     "outputs": []
    },
    {
     "cell_type": "markdown",
     "source": [
      "Compare monthly prices of organic vs conventional spinach."
     ]
    },
    {
     "cell_type": "code",
     "input": [
      "import pylab as pl",
      "pl.figure(figsize=(12,6))",
      "organicSpinachSeries.plot(label='organic')",
      "conventionalSpinachSeries.plot(label='conventional')",
      "pl.legend()"
     ],
     "language": "python",
     "outputs": []
    },
    {
     "cell_type": "code",
     "input": [
      "organicSpinachFrame - conventionalSpinachFrame"
     ],
     "language": "python",
     "outputs": []
    },
    {
     "cell_type": "code",
     "input": [
      "organicSpinachSeries.describe()"
     ],
     "language": "python",
     "outputs": []
    },
    {
     "cell_type": "code",
     "input": [
      "organicSpinachSeries.describe() - conventionalSpinachSeries.describe()"
     ],
     "language": "python",
     "outputs": []
    },
    {
     "cell_type": "markdown",
     "source": [
      "Look at dates when the price of organic spinach was above average."
     ]
    },
    {
     "cell_type": "code",
     "input": [
      "subIndex = organicSpinachSeries > organicSpinachSeries.mean()",
      "organicSpinachSeries[subIndex]"
     ],
     "language": "python",
     "outputs": []
    },
    {
     "cell_type": "markdown",
     "source": [
      "Look at the price of conventional spinach for dates when the price of organic spinach was above average."
     ]
    },
    {
     "cell_type": "code",
     "input": [
      "conventionalSpinachSeries[subIndex]"
     ],
     "language": "python",
     "outputs": []
    },
    {
     "cell_type": "markdown",
     "source": [
      "Was the price of conventional spinach above average on dates when the price of organic spinach was above average?"
     ]
    },
    {
     "cell_type": "code",
     "input": [
      "conventionalSpinachSeries[subIndex] > conventionalSpinachSeries.mean()"
     ],
     "language": "python",
     "outputs": []
    },
    {
     "cell_type": "markdown",
     "source": [
      "Assemble prices and their differences into a table and save it to a spreadsheet."
     ]
    },
    {
     "cell_type": "code",
     "input": [
      "# Create dataFrame",
      "spinachFrame = pandas.DataFrame.from_items([",
      "    ('organic', organicSpinachSeries),",
      "    ('conventional', conventionalSpinachSeries)])",
      "spinachFrame.head()"
     ],
     "language": "python",
     "outputs": []
    },
    {
     "cell_type": "code",
     "input": [
      "# Add column of differences",
      "spinachFrame['difference'] = organicSpinachSeries - conventionalSpinachSeries",
      "spinachFrame.head()"
     ],
     "language": "python",
     "outputs": []
    },
    {
     "cell_type": "code",
     "input": [
      "# Save it to a spreadsheet",
      "spinachFrame.to_csv('spinach-prices.csv')"
     ],
     "language": "python",
     "outputs": []
    },
    {
     "cell_type": "markdown",
     "source": [
      "Convert spinachFrame from US dollars to Singapore dollars using an exchange rate of 1 USD = 1.28135 SGD."
     ]
    },
    {
     "cell_type": "code",
     "input": [
      "# Type your solution here and press CTRL-ENTER"
     ],
     "language": "python",
     "outputs": []
    },
    {
     "cell_type": "markdown",
     "source": [
      "Compute the ratio of organic prices to conventional prices."
     ]
    },
    {
     "cell_type": "code",
     "input": [
      "# Option 1",
      "spinachFrame['organic'] / spinachFrame['conventional']"
     ],
     "language": "python",
     "outputs": [
      {
       "output_type": "pyout",
       "prompt_number": 31,
       "text": [
        "2004-01-01    2.145773",
        "2004-02-01    2.345029",
        "2004-03-01    2.381766",
        "2004-04-01    1.547425",
        "2004-05-01    1.263610",
        "2004-06-01    1.352113",
        "2004-07-01    1.987988",
        "2004-08-01    1.862069",
        "2004-09-01    1.325843",
        "2004-10-01    1.501393",
        "2004-11-01    1.592179",
        "2004-12-01    1.335135",
        "2005-01-01    1.865000",
        "2005-02-01    1.893300",
        "2005-03-01    1.772277",
        "2005-04-01    1.183374",
        "2005-05-01    1.068075",
        "2005-06-01    1.320455",
        "2005-07-01    1.439636",
        "2005-08-01    1.159453",
        "2005-09-01    1.186732",
        "2005-10-01    1.602326",
        "2005-11-01    1.248210",
        "2005-12-01    1.182844",
        "2006-01-01    1.303030",
        "2006-02-01    1.944310",
        "2006-03-01    1.895782",
        "2006-04-01    1.535308",
        "2006-05-01    1.603734",
        "2006-06-01    1.552273",
        "2006-07-01    1.663812",
        "2006-08-01    1.221311",
        "2006-09-01    1.224066",
        "2006-10-01    4.696970",
        "2006-11-01    2.795673",
        "2006-12-01    2.281250"
       ]
      }
     ],
     "prompt_number": 31
    },
    {
     "cell_type": "code",
     "input": [
      "# Option 2",
      "spinachFrame.apply(lambda row: row['organic'] / row['conventional'], axis=1)"
     ],
     "language": "python",
     "outputs": [
      {
       "output_type": "pyout",
       "prompt_number": 34,
       "text": [
        "2004-01-01    2.145773",
        "2004-02-01    2.345029",
        "2004-03-01    2.381766",
        "2004-04-01    1.547425",
        "2004-05-01    1.263610",
        "2004-06-01    1.352113",
        "2004-07-01    1.987988",
        "2004-08-01    1.862069",
        "2004-09-01    1.325843",
        "2004-10-01    1.501393",
        "2004-11-01    1.592179",
        "2004-12-01    1.335135",
        "2005-01-01    1.865000",
        "2005-02-01    1.893300",
        "2005-03-01    1.772277",
        "2005-04-01    1.183374",
        "2005-05-01    1.068075",
        "2005-06-01    1.320455",
        "2005-07-01    1.439636",
        "2005-08-01    1.159453",
        "2005-09-01    1.186732",
        "2005-10-01    1.602326",
        "2005-11-01    1.248210",
        "2005-12-01    1.182844",
        "2006-01-01    1.303030",
        "2006-02-01    1.944310",
        "2006-03-01    1.895782",
        "2006-04-01    1.535308",
        "2006-05-01    1.603734",
        "2006-06-01    1.552273",
        "2006-07-01    1.663812",
        "2006-08-01    1.221311",
        "2006-09-01    1.224066",
        "2006-10-01    4.696970",
        "2006-11-01    2.795673",
        "2006-12-01    2.281250"
       ]
      }
     ],
     "prompt_number": 34
    },
    {
     "cell_type": "markdown",
     "source": [
      "Compute average prices by year."
     ]
    },
    {
     "cell_type": "code",
     "input": [
      "from pandas.core.datetools import YearEnd",
      "spinachFrame.groupby(YearEnd().rollforward).aggregate(np.mean)"
     ],
     "language": "python",
     "outputs": [],
     "prompt_number": 40
    },
    {
     "cell_type": "markdown",
     "source": [
      "Predict the price of organic spinach given the price of conventional spinach using ordinary least squares."
     ]
    },
    {
     "cell_type": "code",
     "input": [
      "import statsmodels.api as sm",
      "y = organicSpinachSeries[:-1]      # Exclude last price",
      "X = conventionalSpinachSeries[:-1] # Exclude last price",
      "model = sm.OLS(y, X)",
      "results = model.fit()",
      "results.params"
     ],
     "language": "python",
     "outputs": [
      {
       "output_type": "pyout",
       "prompt_number": 63,
       "text": [
        "x1    1.648965"
       ]
      }
     ],
     "prompt_number": 63
    },
    {
     "cell_type": "code",
     "input": [
      "results.predict(conventionalSpinachSeries[-1])"
     ],
     "language": "python",
     "outputs": [
      {
       "output_type": "pyout",
       "prompt_number": 64,
       "text": [
        "array([ 7.38736523])"
       ]
      }
     ],
     "prompt_number": 64
    }
   ]
  }
 ]
}