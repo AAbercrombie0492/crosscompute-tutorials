{
 "metadata": {
  "name": "231 Compare unsupervised learning techniques"
 },
 "nbformat": 3,
 "worksheets": [
  {
   "cells": [
    {
     "cell_type": "markdown",
     "source": [
      "For the complete list of unsupervised learning algorithms available in scikit-learn, please see the [documentation](http://scikit-learn.org/dev/unsupervised_learning.html)."
     ]
    },
    {
     "cell_type": "markdown",
     "source": [
      "# [Manifold learning for dimensionality reduction](http://scikit-learn.org/dev/modules/manifold.html)",
      "",
      "## Goal",
      "",
      "The goal in manifold learning is to reduce the dimensionality of the dataset while still preserving its structure, so that similar samples are close together.",
      "",
      "## Applications",
      "",
      "- Visualize sample space",
      "- Determine whether two new samples are similar",
      "",
      "## Types",
      "",
      "- Linear projections",
      "- Locally linear embedding and its regularized variations",
      "",
      "## Practical considerations",
      "",
      "- Scale samples",
      "- Remove noisy data",
      "- Remove identical samples",
      "",
      "## Exercise",
      "",
      "Make a subset of the digits dataset using images from only three digits, then try two different manifold learning techniques using [plot_lle_digits.py](http://scikit-learn.org/dev/auto_examples/manifold/plot_lle_digits.html) for reference."
     ]
    },
    {
     "cell_type": "markdown",
     "source": [
      "# [Clustering](http://scikit-learn.org/dev/modules/clustering.html)",
      "# [Decomposition](http://scikit-learn.org/dev/modules/decomposition.html)",
      "# [Outlier detection](http://scikit-learn.org/dev/modules/outlier_detection.html)",
      "# [Hidden markov models](http://scikit-learn.org/dev/modules/hmm.html)"
     ]
    }
   ]
  }
 ]
}