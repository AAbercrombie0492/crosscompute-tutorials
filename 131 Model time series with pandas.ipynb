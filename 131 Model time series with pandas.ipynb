{
 "metadata": {
  "name": "131 Model time series with pandas"
 },
 "nbformat": 3,
 "worksheets": [
  {
   "cells": [
    {
     "cell_type": "markdown",
     "source": [
      "# Pandas aligns labelled data"
     ]
    },
    {
     "cell_type": "code",
     "input": [
      "from pandas import Series, DataFrame, Panel"
     ],
     "language": "python",
     "outputs": []
    },
    {
     "cell_type": "markdown",
     "source": [
      "## Series is a list with labelled items"
     ]
    },
    {
     "cell_type": "code",
     "input": [
      "februaryOrganicSpinachPrices = Series({2004: 8.02, 2005: 7.63, 2006: 8.03})",
      "novemberOrganicSpinachPrices = Series({2004: 5.70, 2005: 5.23, 2006: 11.63})",
      "novemberOrganicSpinachPrices"
     ],
     "language": "python",
     "outputs": []
    },
    {
     "cell_type": "code",
     "input": [
      "print novemberOrganicSpinachPrices[2004]"
     ],
     "language": "python",
     "outputs": []
    },
    {
     "cell_type": "markdown",
     "source": [
      "## DataFrame is a table with labelled columns and rows"
     ]
    },
    {
     "cell_type": "code",
     "input": [
      "conventionalSpinachPrices = DataFrame(dict(",
      "    february=Series({2004: 3.42, 2005: 4.03, 2006: 4.13}),",
      "    november=Series({2004: 3.58, 2005: 4.19, 2006: 4.16})))",
      "",
      "organicSpinachPrices = DataFrame(dict(",
      "    february=februaryOrganicSpinachPrices,",
      "    november=novemberOrganicSpinachPrices))",
      "",
      "organicSpinachPrices"
     ],
     "language": "python",
     "outputs": []
    },
    {
     "cell_type": "code",
     "input": [
      "organicSpinachPrices['november']"
     ],
     "language": "python",
     "outputs": []
    },
    {
     "cell_type": "code",
     "input": [
      "print organicSpinachPrices['november'][2004]"
     ],
     "language": "python",
     "outputs": []
    },
    {
     "cell_type": "code",
     "input": [
      "print organicSpinachPrices[:2]"
     ],
     "language": "python",
     "outputs": []
    },
    {
     "cell_type": "markdown",
     "source": [
      "## Panel is a collection of labelled tables"
     ]
    },
    {
     "cell_type": "code",
     "input": [
      "spinachPrices = Panel(dict(",
      "    conventional=conventionalSpinachPrices,",
      "    organic=organicSpinachPrices))",
      "spinachPrices"
     ],
     "language": "python",
     "outputs": []
    },
    {
     "cell_type": "code",
     "input": [
      "spinachPrices['organic']"
     ],
     "language": "python",
     "outputs": []
    },
    {
     "cell_type": "code",
     "input": [
      "spinachPrices['organic']['november']"
     ],
     "language": "python",
     "outputs": []
    },
    {
     "cell_type": "code",
     "input": [
      "print spinachPrices['organic']['november'][2004]"
     ],
     "language": "python",
     "outputs": []
    },
    {
     "cell_type": "markdown",
     "source": [
      "## Reindexing"
     ]
    },
    {
     "cell_type": "code",
     "input": [
      "df = DataFrame(np.array(xrange(1,10)).reshape(3,3), index='x y z'.split(), columns='a b c'.split())",
      "print df.cumsum()"
     ],
     "language": "python",
     "outputs": []
    },
    {
     "cell_type": "code",
     "input": [
      "df1 = df.reindex(index=list('zyx'), columns=list('cab'))",
      "df1"
     ],
     "language": "python",
     "outputs": []
    },
    {
     "cell_type": "code",
     "input": [
      "df2 = DataFrame(np.array(range(1, 10)).reshape(3,3), index=list('zyx'), columns=list('cba'))",
      "df2"
     ],
     "language": "python",
     "outputs": []
    },
    {
     "cell_type": "code",
     "input": [
      "df2.reindex_like(df1)"
     ],
     "language": "python",
     "outputs": []
    },
    {
     "cell_type": "markdown",
     "source": [
      "## Aggregation"
     ]
    },
    {
     "cell_type": "code",
     "input": [
      "df = DataFrame(dict(",
      "    age=['adult', 'child', 'adult', 'child'],",
      "    gender=['male', 'male', 'female', 'female'], ",
      "    score=[50, 60, 80, 90]))",
      "df"
     ],
     "language": "python",
     "outputs": []
    },
    {
     "cell_type": "code",
     "input": [
      "df.groupby('age').mean()"
     ],
     "language": "python",
     "outputs": []
    },
    {
     "cell_type": "code",
     "input": [
      "df.groupby('gender').mean()"
     ],
     "language": "python",
     "outputs": []
    },
    {
     "cell_type": "code",
     "input": [
      "print df.groupby('gender').aggregate([np.sum, np.mean, np.std])"
     ],
     "language": "python",
     "outputs": []
    },
    {
     "cell_type": "code",
     "input": [
      "df.groupby('gender').describe()"
     ],
     "language": "python",
     "outputs": []
    },
    {
     "cell_type": "markdown",
     "source": [
      "# Links"
     ]
    },
    {
     "cell_type": "markdown",
     "source": [
      "- [Pandas documentation](http://pandas.pydata.org/pandas-docs/dev)",
      "- [Pandas code repository](https://github.com/pydata/pandas)",
      "- [Pandas code example: Stock price analysis](https://github.com/pydata/pandas/blob/master/examples/finance.py)",
      "- [Pandas code example: Stock price regression](https://github.com/pydata/pandas/blob/master/examples/regressions.py)",
      "- [Google Refine for cleaning data](http://code.google.com/p/google-refine/)"
     ]
    }
   ]
  }
 ]
}