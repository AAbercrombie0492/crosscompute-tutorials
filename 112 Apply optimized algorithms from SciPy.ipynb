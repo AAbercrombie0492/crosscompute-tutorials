{
 "metadata": {
  "name": "112 Apply optimized algorithms from SciPy"
 },
 "nbformat": 3,
 "worksheets": [
  {
   "cells": [
    {
     "cell_type": "markdown",
     "source": [
      "# SciPy is a collection of scientific computing algorithms",
      "",
      "[SciPy reference](http://docs.scipy.org/doc/scipy/reference)"
     ]
    }
   ]
  }
 ]
}