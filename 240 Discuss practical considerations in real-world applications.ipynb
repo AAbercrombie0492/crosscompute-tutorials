{
 "metadata": {
  "name": "240 Discuss practical considerations in real-world applications"
 },
 "nbformat": 3,
 "worksheets": [
  {
   "cells": [
    {
     "cell_type": "markdown",
     "source": [
      "Select features with cross-validation"
     ]
    },
    {
     "cell_type": "markdown",
     "source": [
      "Select models with cross-validation"
     ]
    },
    {
     "cell_type": "markdown",
     "source": [
      "Scale samples"
     ]
    },
    {
     "cell_type": "markdown",
     "source": [
      "Decorrelate samples"
     ]
    },
    {
     "cell_type": "markdown",
     "source": [
      "Cross-validate with transformations by pipelining"
     ]
    },
    {
     "cell_type": "markdown",
     "source": [
      "Interpolate missing labels"
     ]
    },
    {
     "cell_type": "markdown",
     "source": [
      "# References",
      "",
      "- [Dataset transformations](http://scikit-learn.org/dev/modules/data_transforms.html)",
      "- [Classify a satellite image using a convolutional neural network](http://invisibleroads.com/tutorials/image-classify-convolutional-neural-network.html)"
     ]
    }
   ]
  }
 ]
}