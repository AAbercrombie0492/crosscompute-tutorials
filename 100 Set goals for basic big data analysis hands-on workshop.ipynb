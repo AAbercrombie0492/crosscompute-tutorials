{
 "metadata": {
  "name": "100 Set goals for basic big data analysis hands-on workshop"
 },
 "nbformat": 3,
 "worksheets": [
  {
   "cells": [
    {
     "cell_type": "markdown",
     "source": [
      "# Basic big data analysis hands-on workshop",
      "",
      "Welcome!",
      "",
      "    cd $HOME/Documents",
      "    ipython notebook --pylab=inline",
      "",
      "Introduce yourself to two people whom you have not met before.",
      "",
      "> Hi, my name is Roy Hyunjin Han and I am the owner of [CrossCompute](https://crosscompute.com).",
      "> Our mission is to bring the power of computational science",
      "> to the public sector. We work with agencies to understand",
      "> their needs, integrate tools from researchers to meet those needs and build",
      "> local capacity through written tutorials and hands-on training in large-scale",
      "> data analysis. You can contact us at support@crosscompute.com.",
      "",
      "## Skills we will practice",
      "",
      "- Read documentation to learn usage.",
      "- Modify source code to learn techniques.",
      "- Interact with the data and code using IPython.",
      "",
      "## Packages we will cover",
      "",
      "[numpy](http://docs.scipy.org/doc/numpy/reference/)",
      "[scipy](http://docs.scipy.org/doc/scipy/reference/)",
      "[matplotlib](http://matplotlib.sourceforge.net/)",
      "[scikit-learn](http://scikit-learn.org/dev/)",
      "[pandas](http://pandas.pydata.org/)",
      "[statsmodels](http://statsmodels.sourceforge.net/)",
      "[networkx](http://networkx.lanl.gov/)",
      "[shapely](http://toblerity.github.com/shapely/)",
      "[pysal](http://pysal.geodacenter.org/dev)"
     ]
    },
    {
     "cell_type": "code",
     "input": [
      "import numpy, scipy, matplotlib, sklearn, pandas, statsmodels, networkx, geometryIO, shapely, pysal"
     ],
     "language": "python",
     "outputs": []
    }
   ]
  }
 ]
}