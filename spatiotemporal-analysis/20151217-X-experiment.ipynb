{
 "cells": [
  {
   "cell_type": "code",
   "execution_count": 10,
   "metadata": {
    "collapsed": true
   },
   "outputs": [],
   "source": [
    "import requests\n",
    "from invisibleroads_macros.disk import make_folder\n",
    "from os.path import expanduser, join\n",
    "\n",
    "def download(target_path, source_url):\n",
    "    response = requests.get(source_url)\n",
    "    open(target_path, 'w').write(response.content)\n",
    "    return target_path\n",
    "\n",
    "target_folder = make_folder(expanduser('~/Experiments/spatiotemporal'))"
   ]
  },
  {
   "cell_type": "code",
   "execution_count": 11,
   "metadata": {
    "collapsed": false
   },
   "outputs": [
    {
     "data": {
      "text/plain": [
       "'/home/rhh/Experiments/spatiotemporal/nyc-traffic-injuries.json'"
      ]
     },
     "execution_count": 11,
     "metadata": {},
     "output_type": "execute_result"
    }
   ],
   "source": [
    "geojson_path = download(\n",
    "    join(target_folder, 'nyc-traffic-injuries.json'), \n",
    "    'http://www.nyc.gov/html/dot/downloads/misc/injury_all_monthly.json')\n",
    "geojson_path"
   ]
  },
  {
   "cell_type": "code",
   "execution_count": 12,
   "metadata": {
    "collapsed": false
   },
   "outputs": [
    {
     "data": {
      "text/plain": [
       "'/home/rhh/Experiments/spatiotemporal/nyc-traffic-injuries.shp.zip'"
      ]
     },
     "execution_count": 12,
     "metadata": {},
     "output_type": "execute_result"
    }
   ],
   "source": [
    "shapefile_path = download(\n",
    "    join(target_folder, 'nyc-traffic-injuries.shp.zip'),\n",
    "    'http://www.nyc.gov/html/dot/downloads/misc/injury_all_monthly_shapefile.zip')\n",
    "shapefile_path"
   ]
  },
  {
   "cell_type": "code",
   "execution_count": 13,
   "metadata": {
    "collapsed": true
   },
   "outputs": [],
   "source": [
    "# Get first record\n",
    "import fiona"
   ]
  },
  {
   "cell_type": "code",
   "execution_count": 15,
   "metadata": {
    "collapsed": false
   },
   "outputs": [],
   "source": [
    "geojson_collection = fiona.open(geojson_path)"
   ]
  },
  {
   "cell_type": "code",
   "execution_count": 17,
   "metadata": {
    "collapsed": false
   },
   "outputs": [
    {
     "data": {
      "text/plain": [
       "(-74.2539230306024, 40.49947769792743, -73.70059800086655, 40.91246913562538)"
      ]
     },
     "execution_count": 17,
     "metadata": {},
     "output_type": "execute_result"
    }
   ],
   "source": [
    "geojson_collection.bounds"
   ]
  },
  {
   "cell_type": "code",
   "execution_count": 18,
   "metadata": {
    "collapsed": false
   },
   "outputs": [
    {
     "data": {
      "text/plain": [
       "{'geometry': {'coordinates': (-73.7917447266822, 40.72578884918672),\n",
       "  'type': 'Point'},\n",
       " 'id': '0',\n",
       " 'properties': OrderedDict([(u'MVOInjurie', 1),\n",
       "              (u'MN', u'1'),\n",
       "              (u'Injuries', 2),\n",
       "              (u'BikeInjuri', 0),\n",
       "              (u'YR', u'2009'),\n",
       "              (u'PedInjurie', 1)]),\n",
       " 'type': 'Feature'}"
      ]
     },
     "execution_count": 18,
     "metadata": {},
     "output_type": "execute_result"
    }
   ],
   "source": [
    "geojson_collection[0]"
   ]
  },
  {
   "cell_type": "code",
   "execution_count": 19,
   "metadata": {
    "collapsed": false
   },
   "outputs": [
    {
     "data": {
      "text/plain": [
       "OrderedDict([(u'MVOInjurie', 1),\n",
       "             (u'MN', u'1'),\n",
       "             (u'Injuries', 2),\n",
       "             (u'BikeInjuri', 0),\n",
       "             (u'YR', u'2009'),\n",
       "             (u'PedInjurie', 1)])"
      ]
     },
     "execution_count": 19,
     "metadata": {},
     "output_type": "execute_result"
    }
   ],
   "source": [
    "geojson_collection[0]['properties']"
   ]
  },
  {
   "cell_type": "code",
   "execution_count": 22,
   "metadata": {
    "collapsed": false
   },
   "outputs": [
    {
     "data": {
      "text/plain": [
       "'/home/rhh/Experiments/spatiotemporal/nyc-traffic-injuries.shp.zip'"
      ]
     },
     "execution_count": 22,
     "metadata": {},
     "output_type": "execute_result"
    }
   ],
   "source": [
    "shapefile_path"
   ]
  },
  {
   "cell_type": "code",
   "execution_count": 25,
   "metadata": {
    "collapsed": false
   },
   "outputs": [],
   "source": [
    "shapefile_collection = fiona.open('/', vfs='zip://' + shapefile_path)"
   ]
  },
  {
   "cell_type": "code",
   "execution_count": 26,
   "metadata": {
    "collapsed": false
   },
   "outputs": [
    {
     "data": {
      "text/plain": [
       "(-74.2539230306024, 40.49947769792743, -73.70059800086655, 40.91246913562538)"
      ]
     },
     "execution_count": 26,
     "metadata": {},
     "output_type": "execute_result"
    }
   ],
   "source": [
    "shapefile_collection.bounds"
   ]
  },
  {
   "cell_type": "code",
   "execution_count": 29,
   "metadata": {
    "collapsed": false
   },
   "outputs": [
    {
     "data": {
      "text/plain": [
       "u'GEOGCS[\"GCS_WGS_1984\",DATUM[\"WGS_1984\",SPHEROID[\"WGS_84\",6378137.0,298.257223563]],PRIMEM[\"Greenwich\",0.0],UNIT[\"Degree\",0.0174532925199433],AUTHORITY[\"EPSG\",\"4326\"]]'"
      ]
     },
     "execution_count": 29,
     "metadata": {},
     "output_type": "execute_result"
    }
   ],
   "source": [
    "shapefile_collection.crs_wkt"
   ]
  },
  {
   "cell_type": "code",
   "execution_count": 30,
   "metadata": {
    "collapsed": false
   },
   "outputs": [
    {
     "data": {
      "text/plain": [
       "{'init': u'epsg:4326'}"
      ]
     },
     "execution_count": 30,
     "metadata": {},
     "output_type": "execute_result"
    }
   ],
   "source": [
    "shapefile_collection.crs"
   ]
  },
  {
   "cell_type": "code",
   "execution_count": 32,
   "metadata": {
    "collapsed": false
   },
   "outputs": [
    {
     "data": {
      "text/plain": [
       "{'init': u'epsg:4326'}"
      ]
     },
     "execution_count": 32,
     "metadata": {},
     "output_type": "execute_result"
    }
   ],
   "source": [
    "geojson_collection.crs"
   ]
  },
  {
   "cell_type": "code",
   "execution_count": 33,
   "metadata": {
    "collapsed": false
   },
   "outputs": [
    {
     "data": {
      "text/plain": [
       "u'GEOGCS[\"WGS 84\",DATUM[\"WGS_1984\",SPHEROID[\"WGS 84\",6378137,298.257223563,AUTHORITY[\"EPSG\",\"7030\"]],AUTHORITY[\"EPSG\",\"6326\"]],PRIMEM[\"Greenwich\",0,AUTHORITY[\"EPSG\",\"8901\"]],UNIT[\"degree\",0.0174532925199433,AUTHORITY[\"EPSG\",\"9122\"]],AUTHORITY[\"EPSG\",\"4326\"]]'"
      ]
     },
     "execution_count": 33,
     "metadata": {},
     "output_type": "execute_result"
    }
   ],
   "source": [
    "geojson_collection.crs_wkt"
   ]
  },
  {
   "cell_type": "code",
   "execution_count": 34,
   "metadata": {
    "collapsed": false
   },
   "outputs": [
    {
     "data": {
      "text/plain": [
       "{'geometry': {'coordinates': (-73.7917447266822, 40.72578884918672),\n",
       "  'type': 'Point'},\n",
       " 'id': '0',\n",
       " 'properties': OrderedDict([(u'Injuries', 2),\n",
       "              (u'PedInjurie', 1),\n",
       "              (u'BikeInjuri', 0),\n",
       "              (u'MVOInjurie', 1),\n",
       "              (u'MN', u'1'),\n",
       "              (u'YR', u'2009')]),\n",
       " 'type': 'Feature'}"
      ]
     },
     "execution_count": 34,
     "metadata": {},
     "output_type": "execute_result"
    }
   ],
   "source": [
    "shapefile_collection[0]"
   ]
  }
 ],
 "metadata": {
  "kernelspec": {
   "display_name": "Python 2",
   "language": "python",
   "name": "python2"
  },
  "language_info": {
   "codemirror_mode": {
    "name": "ipython",
    "version": 2
   },
   "file_extension": ".py",
   "mimetype": "text/x-python",
   "name": "python",
   "nbconvert_exporter": "python",
   "pygments_lexer": "ipython2",
   "version": "2.7.10"
  }
 },
 "nbformat": 4,
 "nbformat_minor": 0
}
