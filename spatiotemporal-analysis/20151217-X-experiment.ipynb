{
 "cells": [
  {
   "cell_type": "code",
   "execution_count": 28,
   "metadata": {
    "collapsed": true
   },
   "outputs": [],
   "source": [
    "\"\"\"\n",
    "import requests\n",
    "from invisibleroads_macros.disk import make_folder\n",
    "from os.path import expanduser, join\n",
    "\n",
    "def download(target_path, source_url):\n",
    "    response = requests.get(source_url)\n",
    "    open(target_path, 'w').write(response.content)\n",
    "    return target_path\n",
    "\n",
    "target_folder = make_folder(expanduser('~/Experiments/spatiotemporal'))\n",
    "geojson_path = join(target_folder, 'nyc-traffic-injuries.json')\n",
    "shapefile_path = join(target_folder, 'nyc-traffic-injuries.shp.zip')\n",
    "\"\"\";"
   ]
  },
  {
   "cell_type": "code",
   "execution_count": 29,
   "metadata": {
    "collapsed": false
   },
   "outputs": [],
   "source": [
    "\"\"\"\n",
    "geojson_path = download(\n",
    "    join(target_folder, 'nyc-traffic-injuries.json'), \n",
    "    'http://www.nyc.gov/html/dot/downloads/misc/injury_all_monthly.json')\n",
    "shapefile_path = download(\n",
    "    join(target_folder, 'nyc-traffic-injuries.shp.zip'),\n",
    "    'http://www.nyc.gov/html/dot/downloads/misc/injury_all_monthly_shapefile.zip')\n",
    "\"\"\";"
   ]
  },
  {
   "cell_type": "code",
   "execution_count": 30,
   "metadata": {
    "collapsed": false
   },
   "outputs": [],
   "source": [
    "\"\"\"\n",
    "import fiona\n",
    "geojson_collection = fiona.open(geojson_path)\n",
    "print 'geojson_collection.bounds = %s' % repr(geojson_collection.bounds)\n",
    "print 'geojson_collection.crs_wkt = %s' % geojson_collection.crs_wkt\n",
    "print 'geojson_collection.crs = %s' % geojson_collection.crs\n",
    "geojson_collection[0]\n",
    "\"\"\";"
   ]
  },
  {
   "cell_type": "code",
   "execution_count": 31,
   "metadata": {
    "collapsed": false
   },
   "outputs": [],
   "source": [
    "\"\"\"\n",
    "import fiona\n",
    "shapefile_collection = fiona.open('/', vfs='zip://' + shapefile_path)\n",
    "print 'shapefile_collection.bounds = %s' % repr(shapefile_collection.bounds)\n",
    "print 'shapefile_collection.crs_wkt = %s' % shapefile_collection.crs_wkt\n",
    "print 'shapefile_collection.crs = %s' % shapefile_collection.crs\n",
    "shapefile_collection[0]\n",
    "\"\"\";"
   ]
  },
  {
   "cell_type": "code",
   "execution_count": 32,
   "metadata": {
    "collapsed": false
   },
   "outputs": [],
   "source": [
    "\"\"\"\n",
    "from pandas import DataFrame, Period\n",
    "rows, indices = [], []\n",
    "for value_by_key in shapefile_collection:\n",
    "    indices.append(value_by_key['id'])\n",
    "    longitude, latitude = map(float, value_by_key['geometry']['coordinates'])\n",
    "    properties = value_by_key['properties']\n",
    "    year, month = int(properties['YR']), int(properties['MN'])\n",
    "    total_injury_count = int(properties['Injuries'])\n",
    "    pedestrian_injury_count = int(properties['PedInjurie'])\n",
    "    bike_injury_count = int(properties['BikeInjuri'])\n",
    "    motor_vehicle_occupant_injury_count = int(properties['MVOInjurie'])\n",
    "    rows.append([\n",
    "        longitude, latitude, year, month,\n",
    "        total_injury_count, pedestrian_injury_count, bike_injury_count, motor_vehicle_occupant_injury_count,\n",
    "    ])\n",
    "nyc_traffic_injuries_table = DataFrame(rows, index=indices, columns=[\n",
    "    'Longitude', 'Latitude', 'Year', 'Month',\n",
    "    'Total Injury Count', 'Pedestrian Injury Count', 'Bike Injury Count', 'Motor Vehicle Occupant Injury Count',\n",
    "])\n",
    "print(nyc_traffic_injuries_table.dtypes)\n",
    "\"\"\";"
   ]
  },
  {
   "cell_type": "code",
   "execution_count": 33,
   "metadata": {
    "collapsed": false
   },
   "outputs": [],
   "source": [
    "\"\"\"\n",
    "from os.path import expanduser\n",
    "nyc_traffic_injuries_table.to_msgpack(expanduser('~/Experiments/spatiotemporal/nyc-traffic-injuries.msg-blosc'), compress='blosc')\n",
    "nyc_traffic_injuries_table.to_msgpack(expanduser('~/Experiments/spatiotemporal/nyc-traffic-injuries.msg-zlib'), compress='zlib')\n",
    "\"\"\";"
   ]
  },
  {
   "cell_type": "code",
   "execution_count": 34,
   "metadata": {
    "collapsed": false
   },
   "outputs": [
    {
     "name": "stdout",
     "output_type": "stream",
     "text": [
      "nyc_traffic_injury_count = 199341\n"
     ]
    },
    {
     "data": {
      "text/html": [
       "<div>\n",
       "<table border=\"1\" class=\"dataframe\">\n",
       "  <thead>\n",
       "    <tr style=\"text-align: right;\">\n",
       "      <th></th>\n",
       "      <th>Longitude</th>\n",
       "      <th>Latitude</th>\n",
       "      <th>Year</th>\n",
       "      <th>Month</th>\n",
       "      <th>Total Injury Count</th>\n",
       "      <th>Pedestrian Injury Count</th>\n",
       "      <th>Bike Injury Count</th>\n",
       "      <th>Motor Vehicle Occupant Injury Count</th>\n",
       "    </tr>\n",
       "  </thead>\n",
       "  <tbody>\n",
       "    <tr>\n",
       "      <th>0</th>\n",
       "      <td>-73.791745</td>\n",
       "      <td>40.725789</td>\n",
       "      <td>2009</td>\n",
       "      <td>1</td>\n",
       "      <td>2</td>\n",
       "      <td>1</td>\n",
       "      <td>0</td>\n",
       "      <td>1</td>\n",
       "    </tr>\n",
       "    <tr>\n",
       "      <th>1</th>\n",
       "      <td>-73.882429</td>\n",
       "      <td>40.844981</td>\n",
       "      <td>2009</td>\n",
       "      <td>1</td>\n",
       "      <td>1</td>\n",
       "      <td>1</td>\n",
       "      <td>0</td>\n",
       "      <td>0</td>\n",
       "    </tr>\n",
       "    <tr>\n",
       "      <th>2</th>\n",
       "      <td>-73.979058</td>\n",
       "      <td>40.744444</td>\n",
       "      <td>2009</td>\n",
       "      <td>1</td>\n",
       "      <td>2</td>\n",
       "      <td>2</td>\n",
       "      <td>0</td>\n",
       "      <td>0</td>\n",
       "    </tr>\n",
       "  </tbody>\n",
       "</table>\n",
       "</div>"
      ],
      "text/plain": [
       "   Longitude   Latitude  Year  Month  Total Injury Count  \\\n",
       "0 -73.791745  40.725789  2009      1                   2   \n",
       "1 -73.882429  40.844981  2009      1                   1   \n",
       "2 -73.979058  40.744444  2009      1                   2   \n",
       "\n",
       "   Pedestrian Injury Count  Bike Injury Count  \\\n",
       "0                        1                  0   \n",
       "1                        1                  0   \n",
       "2                        2                  0   \n",
       "\n",
       "   Motor Vehicle Occupant Injury Count  \n",
       "0                                    1  \n",
       "1                                    0  \n",
       "2                                    0  "
      ]
     },
     "execution_count": 34,
     "metadata": {},
     "output_type": "execute_result"
    }
   ],
   "source": [
    "from os.path import expanduser\n",
    "from pandas import read_msgpack\n",
    "nyc_traffic_injuries_table = read_msgpack(expanduser('~/Experiments/spatiotemporal/nyc-traffic-injuries.msg-blosc'))\n",
    "print 'nyc_traffic_injury_count = %s' % len(nyc_traffic_injuries_table)\n",
    "nyc_traffic_injuries_table[:3]"
   ]
  },
  {
   "cell_type": "code",
   "execution_count": null,
   "metadata": {
    "collapsed": false
   },
   "outputs": [],
   "source": [
    "# Replace integer index with time series index\n",
    "# This method seems exceedingly slow and memory hungry\n",
    "# It might be faster to just filter by year and month manually\n",
    "from pandas import Period\n",
    "\n",
    "def add_time_period(row):\n",
    "    row['Time Period'] = Period(year=row['Year'], month=row['Month'], freq='M')\n",
    "    return row\n",
    "\n",
    "nyc_traffic_injuries_by_month_table = nyc_traffic_injuries_table.apply(add_time_period, axis=1)\n",
    "nyc_traffic_injuries_by_month_table.index = nyc_traffic_injuries_by_month_table['Time Period']"
   ]
  },
  {
   "cell_type": "code",
   "execution_count": null,
   "metadata": {
    "collapsed": true
   },
   "outputs": [],
   "source": [
    "nyc_traffic_injuries_table.to_pickle(expanduser('~/Experiments/spatiotemporal/nyc-traffic-injuries.pkl'))\n",
    "nyc_traffic_injuries_by_month_table.to_pickle(expanduser('~/Experiments/spatiotemporal/nyc-traffic-injuries-by-month.pkl'))"
   ]
  },
  {
   "cell_type": "code",
   "execution_count": null,
   "metadata": {
    "collapsed": false
   },
   "outputs": [],
   "source": [
    "timeit len(nyc_traffic_injuries_by_month_table['2015-01':'2015-03'])"
   ]
  },
  {
   "cell_type": "code",
   "execution_count": null,
   "metadata": {
    "collapsed": false
   },
   "outputs": [],
   "source": [
    "print(len(nyc_traffic_injuries_by_month_table['2015-01':'2015-01']))\n",
    "print(len(nyc_traffic_injuries_by_month_table['2015-02':'2015-02']))\n",
    "print(len(nyc_traffic_injuries_by_month_table['2015-03':'2015-03']))"
   ]
  },
  {
   "cell_type": "code",
   "execution_count": null,
   "metadata": {
    "collapsed": false
   },
   "outputs": [],
   "source": [
    "1992 + 1749 + 2072"
   ]
  },
  {
   "cell_type": "code",
   "execution_count": null,
   "metadata": {
    "collapsed": true
   },
   "outputs": [],
   "source": [
    "# Filter by dates\n",
    "start_year = 2015\n",
    "start_month = 1\n",
    "end_year = 2015\n",
    "end_month = 3"
   ]
  },
  {
   "cell_type": "code",
   "execution_count": null,
   "metadata": {
    "collapsed": false
   },
   "outputs": [],
   "source": [
    "timeit len(nyc_traffic_injuries_table[(\n",
    "    start_year <= nyc_traffic_injuries_table.Year\n",
    ") & (\n",
    "    nyc_traffic_injuries_table.Year <= end_year\n",
    ") & (\n",
    "    start_month <= nyc_traffic_injuries_table.Month\n",
    ") & (\n",
    "    nyc_traffic_injuries_table.Month <= end_month\n",
    ")])"
   ]
  },
  {
   "cell_type": "code",
   "execution_count": null,
   "metadata": {
    "collapsed": false
   },
   "outputs": [],
   "source": [
    "timeit len(nyc_traffic_injuries_table[(start_year <= nyc_traffic_injuries_table.Year) & (nyc_traffic_injuries_table.Year <= end_year) & (start_month <= nyc_traffic_injuries_table.Month) & (nyc_traffic_injuries_table.Month <= end_month)])"
   ]
  },
  {
   "cell_type": "code",
   "execution_count": null,
   "metadata": {
    "collapsed": false
   },
   "outputs": [],
   "source": [
    "nyc_traffic_injuries_table.sum()"
   ]
  },
  {
   "cell_type": "code",
   "execution_count": null,
   "metadata": {
    "collapsed": false
   },
   "outputs": [],
   "source": [
    "nyc_traffic_injuries_table.groupby(['Longitude', 'Latitude']).groups.items()[:3]"
   ]
  },
  {
   "cell_type": "code",
   "execution_count": 16,
   "metadata": {
    "collapsed": false
   },
   "outputs": [],
   "source": [
    "g = nyc_traffic_injuries_table[[\n",
    "    'Longitude',\n",
    "    'Latitude',\n",
    "    'Total Injury Count',\n",
    "    'Pedestrian Injury Count',\n",
    "    'Bike Injury Count',\n",
    "    'Motor Vehicle Occupant Injury Count',    \n",
    "]].groupby(['Longitude', 'Latitude'])"
   ]
  },
  {
   "cell_type": "code",
   "execution_count": 22,
   "metadata": {
    "collapsed": false
   },
   "outputs": [
    {
     "data": {
      "text/html": [
       "<div>\n",
       "<table border=\"1\" class=\"dataframe\">\n",
       "  <thead>\n",
       "    <tr style=\"text-align: right;\">\n",
       "      <th></th>\n",
       "      <th></th>\n",
       "      <th>Total Injury Count</th>\n",
       "      <th>Pedestrian Injury Count</th>\n",
       "      <th>Bike Injury Count</th>\n",
       "      <th>Motor Vehicle Occupant Injury Count</th>\n",
       "    </tr>\n",
       "    <tr>\n",
       "      <th>Longitude</th>\n",
       "      <th>Latitude</th>\n",
       "      <th></th>\n",
       "      <th></th>\n",
       "      <th></th>\n",
       "      <th></th>\n",
       "    </tr>\n",
       "  </thead>\n",
       "  <tbody>\n",
       "    <tr>\n",
       "      <th>-73.890579</th>\n",
       "      <th>40.658521</th>\n",
       "      <td>310</td>\n",
       "      <td>22</td>\n",
       "      <td>7</td>\n",
       "      <td>281</td>\n",
       "    </tr>\n",
       "    <tr>\n",
       "      <th>-74.020421</th>\n",
       "      <th>40.642057</th>\n",
       "      <td>232</td>\n",
       "      <td>14</td>\n",
       "      <td>4</td>\n",
       "      <td>214</td>\n",
       "    </tr>\n",
       "    <tr>\n",
       "      <th>-73.767353</th>\n",
       "      <th>40.656160</th>\n",
       "      <td>226</td>\n",
       "      <td>1</td>\n",
       "      <td>0</td>\n",
       "      <td>225</td>\n",
       "    </tr>\n",
       "    <tr>\n",
       "      <th>-73.877427</th>\n",
       "      <th>40.680014</th>\n",
       "      <td>219</td>\n",
       "      <td>30</td>\n",
       "      <td>3</td>\n",
       "      <td>186</td>\n",
       "    </tr>\n",
       "    <tr>\n",
       "      <th>-73.803140</th>\n",
       "      <th>40.716214</th>\n",
       "      <td>217</td>\n",
       "      <td>7</td>\n",
       "      <td>2</td>\n",
       "      <td>208</td>\n",
       "    </tr>\n",
       "    <tr>\n",
       "      <th>-73.890485</th>\n",
       "      <th>40.820035</th>\n",
       "      <td>206</td>\n",
       "      <td>52</td>\n",
       "      <td>6</td>\n",
       "      <td>148</td>\n",
       "    </tr>\n",
       "    <tr>\n",
       "      <th>-73.908088</th>\n",
       "      <th>40.676189</th>\n",
       "      <td>203</td>\n",
       "      <td>12</td>\n",
       "      <td>4</td>\n",
       "      <td>187</td>\n",
       "    </tr>\n",
       "    <tr>\n",
       "      <th>-73.912209</th>\n",
       "      <th>40.804615</th>\n",
       "      <td>202</td>\n",
       "      <td>19</td>\n",
       "      <td>3</td>\n",
       "      <td>180</td>\n",
       "    </tr>\n",
       "    <tr>\n",
       "      <th>-73.919951</th>\n",
       "      <th>40.644708</th>\n",
       "      <td>199</td>\n",
       "      <td>10</td>\n",
       "      <td>5</td>\n",
       "      <td>184</td>\n",
       "    </tr>\n",
       "    <tr>\n",
       "      <th>-73.896852</th>\n",
       "      <th>40.675736</th>\n",
       "      <td>196</td>\n",
       "      <td>21</td>\n",
       "      <td>4</td>\n",
       "      <td>171</td>\n",
       "    </tr>\n",
       "  </tbody>\n",
       "</table>\n",
       "</div>"
      ],
      "text/plain": [
       "                      Total Injury Count  Pedestrian Injury Count  \\\n",
       "Longitude  Latitude                                                 \n",
       "-73.890579 40.658521                 310                       22   \n",
       "-74.020421 40.642057                 232                       14   \n",
       "-73.767353 40.656160                 226                        1   \n",
       "-73.877427 40.680014                 219                       30   \n",
       "-73.803140 40.716214                 217                        7   \n",
       "-73.890485 40.820035                 206                       52   \n",
       "-73.908088 40.676189                 203                       12   \n",
       "-73.912209 40.804615                 202                       19   \n",
       "-73.919951 40.644708                 199                       10   \n",
       "-73.896852 40.675736                 196                       21   \n",
       "\n",
       "                      Bike Injury Count  Motor Vehicle Occupant Injury Count  \n",
       "Longitude  Latitude                                                           \n",
       "-73.890579 40.658521                  7                                  281  \n",
       "-74.020421 40.642057                  4                                  214  \n",
       "-73.767353 40.656160                  0                                  225  \n",
       "-73.877427 40.680014                  3                                  186  \n",
       "-73.803140 40.716214                  2                                  208  \n",
       "-73.890485 40.820035                  6                                  148  \n",
       "-73.908088 40.676189                  4                                  187  \n",
       "-73.912209 40.804615                  3                                  180  \n",
       "-73.919951 40.644708                  5                                  184  \n",
       "-73.896852 40.675736                  4                                  171  "
      ]
     },
     "execution_count": 22,
     "metadata": {},
     "output_type": "execute_result"
    }
   ],
   "source": [
    "import numpy as np\n",
    "g.agg(np.sum).sort(['Total Injury Count'], ascending=False)[:10]\n",
    "# pandas 0.17.0, 0.17.1 fail"
   ]
  },
  {
   "cell_type": "code",
   "execution_count": null,
   "metadata": {
    "collapsed": false
   },
   "outputs": [],
   "source": [
    "# Identify most dangerous by location and month\n",
    "nyc_traffic_injuries_table.sort_values('Total Injury Count', ascending=False)[:10]"
   ]
  },
  {
   "cell_type": "code",
   "execution_count": null,
   "metadata": {
    "collapsed": false
   },
   "outputs": [],
   "source": [
    "# Identify most dangerous by location and year\n",
    "import numpy as np\n",
    "nyc_traffic_injuries_table.sort_values(['Longitude'])"
   ]
  },
  {
   "cell_type": "code",
   "execution_count": null,
   "metadata": {
    "collapsed": true
   },
   "outputs": [],
   "source": [
    "# Find all within radius\n",
    "# Plot histogram"
   ]
  },
  {
   "cell_type": "code",
   "execution_count": null,
   "metadata": {
    "collapsed": true
   },
   "outputs": [],
   "source": [
    "# Predict next month\n",
    "# Predict next year"
   ]
  },
  {
   "cell_type": "code",
   "execution_count": null,
   "metadata": {
    "collapsed": true
   },
   "outputs": [],
   "source": [
    "# Find all where trend is increasing month to month\n",
    "# Find all where trend is increasing year to year"
   ]
  },
  {
   "cell_type": "code",
   "execution_count": null,
   "metadata": {
    "collapsed": true
   },
   "outputs": [],
   "source": [
    "# Cluster into areas\n",
    "# Run trend again"
   ]
  },
  {
   "cell_type": "code",
   "execution_count": null,
   "metadata": {
    "collapsed": true
   },
   "outputs": [],
   "source": [
    "# Map results to png"
   ]
  },
  {
   "cell_type": "code",
   "execution_count": null,
   "metadata": {
    "collapsed": true
   },
   "outputs": [],
   "source": [
    "# Map results to leaflet"
   ]
  },
  {
   "cell_type": "code",
   "execution_count": null,
   "metadata": {
    "collapsed": true
   },
   "outputs": [],
   "source": [
    "# Animate results (what would we animate?)"
   ]
  },
  {
   "cell_type": "code",
   "execution_count": null,
   "metadata": {
    "collapsed": true
   },
   "outputs": [],
   "source": []
  },
  {
   "cell_type": "code",
   "execution_count": null,
   "metadata": {
    "collapsed": true
   },
   "outputs": [],
   "source": [
    "# Given dates, return ranked table of intersections\n",
    "# Okay"
   ]
  },
  {
   "cell_type": "code",
   "execution_count": null,
   "metadata": {
    "collapsed": true
   },
   "outputs": [],
   "source": [
    "# Given dates, address, radius, return ranked table of intersections\n",
    "# Illustrates kdtree"
   ]
  },
  {
   "cell_type": "code",
   "execution_count": 23,
   "metadata": {
    "collapsed": true
   },
   "outputs": [],
   "source": [
    "# Geocode address into latitude and longitude\n",
    "from geopy.geocoders import GoogleV3"
   ]
  },
  {
   "cell_type": "code",
   "execution_count": 25,
   "metadata": {
    "collapsed": true
   },
   "outputs": [],
   "source": [
    "g = GoogleV3()"
   ]
  },
  {
   "cell_type": "code",
   "execution_count": 27,
   "metadata": {
    "collapsed": false
   },
   "outputs": [
    {
     "data": {
      "text/plain": [
       "Location((40.7180139, -74.0138939, 0.0))"
      ]
     },
     "execution_count": 27,
     "metadata": {},
     "output_type": "execute_result"
    }
   ],
   "source": [
    "g.geocode('345 Chambers Street, NY, NY')"
   ]
  },
  {
   "cell_type": "code",
   "execution_count": null,
   "metadata": {
    "collapsed": true
   },
   "outputs": [],
   "source": [
    "# Build kdtree\n",
    "# I can either go direct from longitude latitude or I can convert into a different spatial reference"
   ]
  },
  {
   "cell_type": "code",
   "execution_count": 37,
   "metadata": {
    "collapsed": true
   },
   "outputs": [],
   "source": [
    "from pysal.cg import kdtree\n",
    "kdtree.Arc_KDTree?"
   ]
  },
  {
   "cell_type": "code",
   "execution_count": null,
   "metadata": {
    "collapsed": true
   },
   "outputs": [],
   "source": []
  },
  {
   "cell_type": "code",
   "execution_count": null,
   "metadata": {
    "collapsed": true
   },
   "outputs": [],
   "source": [
    "# Get all injuries within 100 meter radius\n",
    "# Rank\n",
    "# Generate histogram"
   ]
  },
  {
   "cell_type": "code",
   "execution_count": null,
   "metadata": {
    "collapsed": true
   },
   "outputs": [],
   "source": [
    "# Given dates, addresses, return ranked table within bounding box\n",
    "# Show histogram\n",
    "# Filter by bounding box"
   ]
  },
  {
   "cell_type": "code",
   "execution_count": null,
   "metadata": {
    "collapsed": true
   },
   "outputs": [],
   "source": [
    "# Given dates, addresses, mode of transport, return ranked routes"
   ]
  },
  {
   "cell_type": "code",
   "execution_count": null,
   "metadata": {
    "collapsed": true
   },
   "outputs": [],
   "source": [
    "# Call directions api"
   ]
  },
  {
   "cell_type": "code",
   "execution_count": null,
   "metadata": {
    "collapsed": true
   },
   "outputs": [],
   "source": [
    "# Given dates, target date, project trends for each location\n",
    "# Illustrates basic trend forecasting"
   ]
  },
  {
   "cell_type": "code",
   "execution_count": null,
   "metadata": {
    "collapsed": true
   },
   "outputs": [],
   "source": []
  },
  {
   "cell_type": "code",
   "execution_count": null,
   "metadata": {
    "collapsed": true
   },
   "outputs": [],
   "source": [
    "# Find most dangerous center\n",
    "# Illustrates minimizing a loss function"
   ]
  },
  {
   "cell_type": "code",
   "execution_count": null,
   "metadata": {
    "collapsed": true
   },
   "outputs": [],
   "source": [
    "# Find safest route without google directions\n",
    "# Population z = f(x, y) by adding a gaussian at each accident spot, with radius proportional to number of accidents\n",
    "# optimize path using optimization function, through X waypoints, where we move each of the waypoints\n",
    "# in other words, we optimize the location of each waypoint\n",
    "# the loss function is minimizing z and total distance\n",
    "# this sounds like an obstacle avoidance algorithm\n",
    "# not sure if it's really appropriate here though"
   ]
  },
  {
   "cell_type": "code",
   "execution_count": null,
   "metadata": {
    "collapsed": false
   },
   "outputs": [],
   "source": [
    "import pandas\n",
    "print pandas.__version__"
   ]
  },
  {
   "cell_type": "code",
   "execution_count": null,
   "metadata": {
    "collapsed": false
   },
   "outputs": [],
   "source": [
    "from pandas import DataFrame\n",
    "table = DataFrame([[1, 2], [3, 4]], columns=['A', 'B'])\n",
    "table.groupby('A').sum()"
   ]
  },
  {
   "cell_type": "code",
   "execution_count": null,
   "metadata": {
    "collapsed": true
   },
   "outputs": [],
   "source": []
  }
 ],
 "metadata": {
  "kernelspec": {
   "display_name": "Python 2",
   "language": "python",
   "name": "python2"
  },
  "language_info": {
   "codemirror_mode": {
    "name": "ipython",
    "version": 2
   },
   "file_extension": ".py",
   "mimetype": "text/x-python",
   "name": "python",
   "nbconvert_exporter": "python",
   "pygments_lexer": "ipython2",
   "version": "2.7.10"
  }
 },
 "nbformat": 4,
 "nbformat_minor": 0
}
