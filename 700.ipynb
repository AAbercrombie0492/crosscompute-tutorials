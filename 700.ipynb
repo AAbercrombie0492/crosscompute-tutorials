{
 "metadata": {
  "name": "700"
 },
 "nbformat": 3,
 "nbformat_minor": 0,
 "worksheets": [
  {
   "cells": [
    {
     "cell_type": "code",
     "collapsed": false,
     "input": [
      "import pandas as p\n",
      "p.rolling_count?"
     ],
     "language": "python",
     "metadata": {},
     "outputs": [],
     "prompt_number": 1
    },
    {
     "cell_type": "code",
     "collapsed": false,
     "input": [
      "from pandas import date_range"
     ],
     "language": "python",
     "metadata": {},
     "outputs": [],
     "prompt_number": 2
    },
    {
     "cell_type": "code",
     "collapsed": false,
     "input": [
      "from pandas import Series\n",
      "ts = Series(xrange(7), index=date_range('2012-10-1', '2012-10-7'))\n",
      "ts"
     ],
     "language": "python",
     "metadata": {},
     "outputs": [
      {
       "output_type": "pyout",
       "prompt_number": 3,
       "text": [
        "2012-10-01    0\n",
        "2012-10-02    1\n",
        "2012-10-03    2\n",
        "2012-10-04    3\n",
        "2012-10-05    4\n",
        "2012-10-06    5\n",
        "2012-10-07    6\n",
        "Freq: D"
       ]
      }
     ],
     "prompt_number": 3
    },
    {
     "cell_type": "code",
     "collapsed": false,
     "input": [
      "p.rolling_count(ts, 3)"
     ],
     "language": "python",
     "metadata": {},
     "outputs": [
      {
       "output_type": "pyout",
       "prompt_number": 4,
       "text": [
        "2012-10-01    1\n",
        "2012-10-02    2\n",
        "2012-10-03    3\n",
        "2012-10-04    3\n",
        "2012-10-05    3\n",
        "2012-10-06    3\n",
        "2012-10-07    3\n",
        "Freq: D"
       ]
      }
     ],
     "prompt_number": 4
    },
    {
     "cell_type": "code",
     "collapsed": false,
     "input": [
      "p.rolling_sum(ts, 3)"
     ],
     "language": "python",
     "metadata": {},
     "outputs": [
      {
       "output_type": "pyout",
       "prompt_number": 5,
       "text": [
        "2012-10-01   NaN\n",
        "2012-10-02   NaN\n",
        "2012-10-03     3\n",
        "2012-10-04     6\n",
        "2012-10-05     9\n",
        "2012-10-06    12\n",
        "2012-10-07    15\n",
        "Freq: D"
       ]
      }
     ],
     "prompt_number": 5
    },
    {
     "cell_type": "code",
     "collapsed": false,
     "input": [
      "def f(_):\n",
      "    print _\n",
      "    return sum(_) % 2 == 0\n",
      "\n",
      "p.rolling_apply(ts, 3, f)"
     ],
     "language": "python",
     "metadata": {},
     "outputs": [
      {
       "output_type": "stream",
       "stream": "stdout",
       "text": [
        "[ 0.  1.  2.]\n",
        "[ 1.  2.  3.]\n",
        "[ 2.  3.  4.]\n",
        "[ 3.  4.  5.]\n",
        "[ 4.  5.  6.]\n"
       ]
      },
      {
       "output_type": "pyout",
       "prompt_number": 6,
       "text": [
        "2012-10-01   NaN\n",
        "2012-10-02   NaN\n",
        "2012-10-03     0\n",
        "2012-10-04     1\n",
        "2012-10-05     0\n",
        "2012-10-06     1\n",
        "2012-10-07     0\n",
        "Freq: D"
       ]
      }
     ],
     "prompt_number": 6
    },
    {
     "cell_type": "code",
     "collapsed": false,
     "input": [
      "p.rolling_apply??"
     ],
     "language": "python",
     "metadata": {},
     "outputs": [],
     "prompt_number": 7
    },
    {
     "cell_type": "code",
     "collapsed": false,
     "input": [
      "index = date_range('2012-1-1', '2012-6-1')\n",
      "ts = Series(xrange(len(index)), index=index)\n",
      "print ts.head()\n",
      "print ts.resample('W', how='sum').head()\n",
      "print p.rolling_sum(ts, 3, freq='W').head()\n",
      "print p.rolling_sum(ts.resample('W', how='sum'), 3).head()"
     ],
     "language": "python",
     "metadata": {},
     "outputs": [
      {
       "output_type": "stream",
       "stream": "stdout",
       "text": [
        "2012-01-01    0\n",
        "2012-01-02    1\n",
        "2012-01-03    2\n",
        "2012-01-04    3\n",
        "2012-01-05    4\n",
        "Freq: D\n",
        "2012-01-01      0\n",
        "2012-01-08     28\n",
        "2012-01-15     77\n",
        "2012-01-22    126\n",
        "2012-01-29    175\n",
        "Freq: W-SUN\n",
        "2012-01-01   NaN\n",
        "2012-01-08   NaN\n",
        "2012-01-15    15\n",
        "2012-01-22    33\n",
        "2012-01-29    54\n",
        "Freq: W-SUN\n",
        "2012-01-01    NaN\n",
        "2012-01-08    NaN\n",
        "2012-01-15    105\n",
        "2012-01-22    231\n",
        "2012-01-29    378\n",
        "Freq: W-SUN\n"
       ]
      }
     ],
     "prompt_number": 8
    },
    {
     "cell_type": "code",
     "collapsed": false,
     "input": [
      "sum(range(15))"
     ],
     "language": "python",
     "metadata": {},
     "outputs": [
      {
       "output_type": "pyout",
       "prompt_number": 9,
       "text": [
        "105"
       ]
      }
     ],
     "prompt_number": 9
    },
    {
     "cell_type": "code",
     "collapsed": false,
     "input": [
      "In [27]: list(product([0,1,2], [0,1,2]))\n",
      "Out[27]: [(0, 0), (0, 1), (0, 2), (1, 0), (1, 1), (1, 2), (2, 0), (2, 1), (2, 2)]\n",
      "\n",
      "In [28]: zip(x.flatten(), y.flatten())\n",
      "Out[28]: [(0, 0), (0, 1), (0, 2), (1, 0), (1, 1), (1, 2), (2, 0), (2, 1), (2, 2)]"
     ],
     "language": "python",
     "metadata": {},
     "outputs": [
      {
       "ename": "SyntaxError",
       "evalue": "invalid syntax (<ipython-input-10-4f3b50fe6e5d>, line 2)",
       "output_type": "pyerr",
       "traceback": [
        "\u001b[1;36m  File \u001b[1;32m\"<ipython-input-10-4f3b50fe6e5d>\"\u001b[1;36m, line \u001b[1;32m2\u001b[0m\n\u001b[1;33m    Out[27]: [(0, 0), (0, 1), (0, 2), (1, 0), (1, 1), (1, 2), (2, 0), (2, 1), (2, 2)]\u001b[0m\n\u001b[1;37m           ^\u001b[0m\n\u001b[1;31mSyntaxError\u001b[0m\u001b[1;31m:\u001b[0m invalid syntax\n"
       ]
      }
     ],
     "prompt_number": 10
    },
    {
     "cell_type": "code",
     "collapsed": false,
     "input": [
      "# Filter calls by location\n"
     ],
     "language": "python",
     "metadata": {},
     "outputs": [],
     "prompt_number": "*"
    }
   ],
   "metadata": {}
  }
 ]
}