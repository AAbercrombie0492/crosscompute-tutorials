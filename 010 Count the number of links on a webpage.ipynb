{
 "metadata": {
  "name": "010 Count the number of links on a webpage"
 },
 "nbformat": 3,
 "nbformat_minor": 0,
 "worksheets": [
  {
   "cells": [
    {
     "cell_type": "markdown",
     "metadata": {},
     "source": [
      "# Strings\n",
      "\n",
      "Count the number of letters."
     ]
    },
    {
     "cell_type": "code",
     "collapsed": false,
     "input": [
      "len('Bring me my Bow of burning gold;')"
     ],
     "language": "python",
     "metadata": {},
     "outputs": [],
     "prompt_number": 2
    },
    {
     "cell_type": "markdown",
     "metadata": {},
     "source": [
      "Strip peripheral whitespace."
     ]
    },
    {
     "cell_type": "code",
     "collapsed": false,
     "input": [
      "'    Bring me my Arrows of desire:    '.strip()"
     ],
     "language": "python",
     "metadata": {},
     "outputs": [],
     "prompt_number": 3
    },
    {
     "cell_type": "markdown",
     "metadata": {},
     "source": [
      "Replace characters."
     ]
    },
    {
     "cell_type": "code",
     "collapsed": false,
     "input": [
      "'Bring me my Spear: O clouds unfold!'.replace('Spear', 'Shrubbery')"
     ],
     "language": "python",
     "metadata": {},
     "outputs": [],
     "prompt_number": 4
    },
    {
     "cell_type": "markdown",
     "metadata": {},
     "source": [
      "Format template."
     ]
    },
    {
     "cell_type": "code",
     "collapsed": false,
     "input": [
      "'Bring me my %s of fire!' % 'Chariot'"
     ],
     "language": "python",
     "metadata": {},
     "outputs": [],
     "prompt_number": 5
    },
    {
     "cell_type": "markdown",
     "metadata": {},
     "source": [
      "Test characters."
     ]
    },
    {
     "cell_type": "code",
     "collapsed": false,
     "input": [
      "'I will not cease from Mental Fight,'.startswith('I')"
     ],
     "language": "python",
     "metadata": {},
     "outputs": [],
     "prompt_number": 6
    },
    {
     "cell_type": "markdown",
     "metadata": {},
     "source": [
      "Count occurrences."
     ]
    },
    {
     "cell_type": "code",
     "collapsed": false,
     "input": [
      "'Nor shall my Sword sleep in my hand:'.count('my')"
     ],
     "language": "python",
     "metadata": {},
     "outputs": [],
     "prompt_number": 7
    },
    {
     "cell_type": "markdown",
     "metadata": {},
     "source": [
      "# [Lists](http://docs.python.org/2/tutorial/introduction.html#lists)\n",
      "\n",
      "Join a list into a string."
     ]
    },
    {
     "cell_type": "code",
     "collapsed": false,
     "input": [
      "' ;) '.join([\n",
      "    'Welcome to all the pleasures that delight',\n",
      "    'Of ev\\'ry sense the grateful appetite,',\n",
      "])"
     ],
     "language": "python",
     "metadata": {},
     "outputs": [],
     "prompt_number": 8
    },
    {
     "cell_type": "markdown",
     "metadata": {},
     "source": [
      "Split a string into a list."
     ]
    },
    {
     "cell_type": "code",
     "collapsed": false,
     "input": [
      "'Then lift up your voices, those organs of nature'.split(', ')"
     ],
     "language": "python",
     "metadata": {},
     "outputs": [],
     "prompt_number": 9
    },
    {
     "cell_type": "markdown",
     "metadata": {},
     "source": [
      "Make a list from another list."
     ]
    },
    {
     "cell_type": "code",
     "collapsed": false,
     "input": [
      "words = \"Those charms to the troubled and amorous creature.\".split()\n",
      "['*%s*' % x for x in words]"
     ],
     "language": "python",
     "metadata": {},
     "outputs": [],
     "prompt_number": 10
    },
    {
     "cell_type": "markdown",
     "metadata": {},
     "source": [
      "Get the length of each word."
     ]
    },
    {
     "cell_type": "code",
     "collapsed": false,
     "input": [
      "# Type your solution here and press CTRL-ENTER"
     ],
     "language": "python",
     "metadata": {},
     "outputs": [],
     "prompt_number": 11
    },
    {
     "cell_type": "markdown",
     "metadata": {},
     "source": [
      "# [Dictionaries](http://docs.python.org/2/tutorial/datastructures.html#dictionaries)\n",
      "\n",
      "Make a dictionary of US state names."
     ]
    },
    {
     "cell_type": "code",
     "collapsed": false,
     "input": [
      "codeByState = {'California': 'CA', 'New York': 'NY', 'Virginia': 'VA'}\n",
      "codeByState"
     ],
     "language": "python",
     "metadata": {},
     "outputs": [],
     "prompt_number": 12
    },
    {
     "cell_type": "code",
     "collapsed": false,
     "input": [
      "codeByState.keys()"
     ],
     "language": "python",
     "metadata": {},
     "outputs": [],
     "prompt_number": 13
    },
    {
     "cell_type": "code",
     "collapsed": false,
     "input": [
      "codeByState['Florida'] = 'FL'\n",
      "codeByState"
     ],
     "language": "python",
     "metadata": {},
     "outputs": [],
     "prompt_number": 14
    },
    {
     "cell_type": "code",
     "collapsed": false,
     "input": [
      "codeByState['New York']"
     ],
     "language": "python",
     "metadata": {},
     "outputs": [],
     "prompt_number": 15
    },
    {
     "cell_type": "markdown",
     "metadata": {},
     "source": [
      "Make a dictionary of US state codes using a dictionary comprehension."
     ]
    },
    {
     "cell_type": "code",
     "collapsed": false,
     "input": [
      "stateByCode = {code: state for state, code in codeByState.iteritems()}\n",
      "stateByCode"
     ],
     "language": "python",
     "metadata": {},
     "outputs": [],
     "prompt_number": 16
    },
    {
     "cell_type": "code",
     "collapsed": false,
     "input": [
      "# Get the state name for VA\n",
      "stateByCode['VA']"
     ],
     "language": "python",
     "metadata": {},
     "outputs": [],
     "prompt_number": 17
    },
    {
     "cell_type": "markdown",
     "metadata": {},
     "source": [
      "Make a dictionary where each letter corresponds to a list of US states that start with that letter."
     ]
    },
    {
     "cell_type": "code",
     "collapsed": false,
     "input": [
      "import csv\n",
      "stateByCode = {code: state for state, code in csv.reader(open('datasets/USA-StateAbbreviations.csv'))}\n",
      "stateByCode['MA']"
     ],
     "language": "python",
     "metadata": {},
     "outputs": [],
     "prompt_number": 35
    },
    {
     "cell_type": "code",
     "collapsed": false,
     "input": [
      "import collections\n",
      "codesByLetter = collections.defaultdict(list)\n",
      "for code in stateByCode:\n",
      "    letter = code[0].lower()\n",
      "    codesByLetter[letter].append(code)\n",
      "print codesByLetter['a']\n",
      "print codesByLetter['m']"
     ],
     "language": "python",
     "metadata": {},
     "outputs": [],
     "prompt_number": 19
    },
    {
     "cell_type": "markdown",
     "metadata": {},
     "source": [
      "# [Functions](http://docs.python.org/2/tutorial/controlflow.html#defining-functions)\n",
      "\n",
      "Define a function."
     ]
    },
    {
     "cell_type": "code",
     "collapsed": false,
     "input": [
      "def add(x, y):\n",
      "    return x + y\n",
      "\n",
      "add(1, 2)"
     ],
     "language": "python",
     "metadata": {},
     "outputs": [],
     "prompt_number": 20
    },
    {
     "cell_type": "code",
     "collapsed": false,
     "input": [
      "multiply = lambda x, y: x * y\n",
      "multiply(1, 2)"
     ],
     "language": "python",
     "metadata": {},
     "outputs": [],
     "prompt_number": 21
    },
    {
     "cell_type": "markdown",
     "metadata": {},
     "source": [
      "Make a list of functions."
     ]
    },
    {
     "cell_type": "code",
     "collapsed": false,
     "input": [
      "methods = [add, multiply]\n",
      "methods"
     ],
     "language": "python",
     "metadata": {},
     "outputs": [],
     "prompt_number": 22
    },
    {
     "cell_type": "code",
     "collapsed": false,
     "input": [
      "import random\n",
      "for x in xrange(5):\n",
      "    combine = random.choice(methods)\n",
      "    print combine(4, 5)"
     ],
     "language": "python",
     "metadata": {},
     "outputs": [],
     "prompt_number": 23
    },
    {
     "cell_type": "markdown",
     "metadata": {},
     "source": [
      "Define a function that returns a list of links on a webpage."
     ]
    },
    {
     "cell_type": "code",
     "collapsed": false,
     "input": [
      "from bs4 import BeautifulSoup\n",
      "from urllib2 import urlopen\n",
      "\n",
      "def get_links(url):\n",
      "    html = urlopen(url).read()\n",
      "    links = BeautifulSoup(html).find_all('a')\n",
      "    return [link.get('href') for link in links]"
     ],
     "language": "python",
     "metadata": {},
     "outputs": [],
     "prompt_number": 24
    },
    {
     "cell_type": "markdown",
     "metadata": {},
     "source": [
      "Look at the first five links on a webpage."
     ]
    },
    {
     "cell_type": "code",
     "collapsed": false,
     "input": [
      "get_links('http://google.com')[:5]"
     ],
     "language": "python",
     "metadata": {},
     "outputs": [],
     "prompt_number": 25
    },
    {
     "cell_type": "markdown",
     "metadata": {},
     "source": [
      "Count the number of links on a webpage."
     ]
    },
    {
     "cell_type": "code",
     "collapsed": false,
     "input": [
      "# Type your solution here and press CTRL-ENTER"
     ],
     "language": "python",
     "metadata": {},
     "outputs": [],
     "prompt_number": 26
    },
    {
     "cell_type": "markdown",
     "metadata": {},
     "source": [
      "# Classes\n",
      "\n",
      "Classes can contain variables and methods."
     ]
    },
    {
     "cell_type": "code",
     "collapsed": false,
     "input": [
      "class Animal(object):\n",
      "    \n",
      "    def __init__(self, name):\n",
      "        self.name = name\n",
      "        self.stomach = []\n",
      "        \n",
      "    def __repr__(self):\n",
      "        return self.name\n",
      "        \n",
      "    def ask(self):\n",
      "        return '%s is %s.' % (self.name, 'full' if self.stomach else 'hungry')\n",
      "              \n",
      "    def eat(self, food):\n",
      "        if food in self.stomach:\n",
      "            print '%s already ate %s.' % (self.name, food)\n",
      "        else:\n",
      "            print '%s eats %s!' % (self.name, food)\n",
      "            self.stomach.append(food)"
     ],
     "language": "python",
     "metadata": {},
     "outputs": [],
     "prompt_number": 27
    },
    {
     "cell_type": "code",
     "collapsed": false,
     "input": [
      "turtle = Animal('Donatello')\n",
      "dinosaur = Animal('Barney')\n",
      "monster = Animal('Cookie Monster')"
     ],
     "language": "python",
     "metadata": {},
     "outputs": [],
     "prompt_number": 28
    },
    {
     "cell_type": "code",
     "collapsed": false,
     "input": [
      "monster.ask()"
     ],
     "language": "python",
     "metadata": {},
     "outputs": [],
     "prompt_number": 29
    },
    {
     "cell_type": "code",
     "collapsed": false,
     "input": [
      "monster.eat(turtle)"
     ],
     "language": "python",
     "metadata": {},
     "outputs": [],
     "prompt_number": 30
    },
    {
     "cell_type": "code",
     "collapsed": false,
     "input": [
      "monster.eat(turtle)"
     ],
     "language": "python",
     "metadata": {},
     "outputs": [],
     "prompt_number": 31
    },
    {
     "cell_type": "code",
     "collapsed": false,
     "input": [
      "monster.stomach"
     ],
     "language": "python",
     "metadata": {},
     "outputs": [],
     "prompt_number": 32
    },
    {
     "cell_type": "code",
     "collapsed": false,
     "input": [
      "turtle in monster.stomach"
     ],
     "language": "python",
     "metadata": {},
     "outputs": [],
     "prompt_number": 33
    },
    {
     "cell_type": "code",
     "collapsed": false,
     "input": [
      "dinosaur in monster.stomach"
     ],
     "language": "python",
     "metadata": {},
     "outputs": [],
     "prompt_number": 34
    },
    {
     "cell_type": "markdown",
     "metadata": {},
     "source": [
      "# Keywords"
     ]
    },
    {
     "cell_type": "code",
     "collapsed": false,
     "input": [
      "words = 'why do bees make honey'.split()\n",
      "for index, word in enumerate(words):\n",
      "    print index, word"
     ],
     "language": "python",
     "metadata": {},
     "outputs": [],
     "prompt_number": 3
    },
    {
     "cell_type": "code",
     "collapsed": false,
     "input": [
      "boys = 'Roy', 'Chris', 'Jake'\n",
      "girls = 'Cathaleen', 'Louisa', 'Sarah'\n",
      "zip(boys, girls)"
     ],
     "language": "python",
     "metadata": {},
     "outputs": [],
     "prompt_number": 4
    },
    {
     "cell_type": "markdown",
     "metadata": {},
     "source": [
      "We recommend the [Official Python Tutorial](http://docs.python.org/tutorial)."
     ]
    }
   ],
   "metadata": {}
  }
 ]
}