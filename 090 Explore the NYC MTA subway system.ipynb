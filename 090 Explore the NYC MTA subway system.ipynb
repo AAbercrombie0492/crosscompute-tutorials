{
 "metadata": {
  "name": "090 Explore the NYC MTA subway system"
 },
 "nbformat": 3,
 "nbformat_minor": 0,
 "worksheets": [
  {
   "cells": [
    {
     "cell_type": "code",
     "collapsed": false,
     "input": [
      "from pandas import read_csv\n",
      "calendar = read_csv('datasets/NYC-MTA-Calendar.csv')\n",
      "routes = read_csv('datasets/NYC-MTA-Routes.csv')\n",
      "trips = read_csv('datasets/NYC-MTA-Trips.csv')\n",
      "times = read_csv('datasets/NYC-MTA-StopTimes.csv')\n",
      "stops = read_csv('datasets/NYC-MTA-Stops.csv')"
     ],
     "language": "python",
     "metadata": {},
     "outputs": [],
     "prompt_number": 6
    },
    {
     "cell_type": "code",
     "collapsed": false,
     "input": [
      "calendar.ix[0]"
     ],
     "language": "python",
     "metadata": {},
     "outputs": [],
     "prompt_number": 7
    },
    {
     "cell_type": "code",
     "collapsed": false,
     "input": [
      "weekdayServiceIDs = filter(lambda x: x.endswith('WKD'), calendar.service_id)\n",
      "weekdayServiceIDs"
     ],
     "language": "python",
     "metadata": {},
     "outputs": [],
     "prompt_number": 8
    },
    {
     "cell_type": "code",
     "collapsed": false,
     "input": [
      "routes.ix[0]"
     ],
     "language": "python",
     "metadata": {},
     "outputs": [],
     "prompt_number": 9
    },
    {
     "cell_type": "code",
     "collapsed": false,
     "input": [
      "routeNameByID = {x['route_id']: x['route_long_name'] for index, x in routes.iterrows()}\n",
      "routeNameByID['3']"
     ],
     "language": "python",
     "metadata": {},
     "outputs": [],
     "prompt_number": 10
    },
    {
     "cell_type": "code",
     "collapsed": false,
     "input": [
      "trips.ix[0]"
     ],
     "language": "python",
     "metadata": {},
     "outputs": [],
     "prompt_number": 11
    },
    {
     "cell_type": "code",
     "collapsed": false,
     "input": [
      "weekdayTrips = trips[trips.service_id.isin(weekdayServiceIDs)]\n",
      "len(weekdayTrips)"
     ],
     "language": "python",
     "metadata": {},
     "outputs": [],
     "prompt_number": 12
    },
    {
     "cell_type": "code",
     "collapsed": false,
     "input": [
      "times.ix[0]"
     ],
     "language": "python",
     "metadata": {},
     "outputs": [],
     "prompt_number": 13
    },
    {
     "cell_type": "code",
     "collapsed": false,
     "input": [
      "weekdayTimes = times[times.trip_id.isin(weekdayTrips.trip_id.unique())]\n",
      "len(weekdayTimes)"
     ],
     "language": "python",
     "metadata": {},
     "outputs": [],
     "prompt_number": 14
    },
    {
     "cell_type": "code",
     "collapsed": false,
     "input": [
      "stops.ix[0]"
     ],
     "language": "python",
     "metadata": {},
     "outputs": [],
     "prompt_number": 15
    },
    {
     "cell_type": "code",
     "collapsed": false,
     "input": [
      "# List weekday stops on the 5 line\n",
      "routeID = '5'\n",
      "print routeNameByID[routeID]\n",
      "route5WeekdayTrips = weekdayTrips[weekdayTrips.route_id == routeID]\n",
      "stopIDs = route5WeekdayTrips.merge(weekdayTimes).stop_id.unique()\n",
      "stops[stops.stop_id.isin(stopIDs)].stop_name.unique()"
     ],
     "language": "python",
     "metadata": {},
     "outputs": [],
     "prompt_number": 16
    },
    {
     "cell_type": "code",
     "collapsed": false,
     "input": [
      "# List weekday stops on the 5 line by departure time\n",
      "route5Trip = route5WeekdayTrips.ix[route5WeekdayTrips.index[224]]\n",
      "route5TripTimes = weekdayTimes[weekdayTimes.trip_id == route5Trip['trip_id']]\n",
      "route5Stops = route5TripTimes.merge(stops)[['departure_time', 'stop_id', 'stop_name']]\n",
      "route5Stops.sort('departure_time')"
     ],
     "language": "python",
     "metadata": {},
     "outputs": [],
     "prompt_number": 17
    },
    {
     "cell_type": "code",
     "collapsed": false,
     "input": [
      "# Build a network connecting stops on the 5 line and 6 line\n",
      "import datetime\n",
      "import networkx\n",
      "\n",
      "def get_tripStops(tripID):\n",
      "    tripTimes = times[times.trip_id == tripID]\n",
      "    return tripTimes.merge(stops)[['departure_time', 'stop_name']].sort('departure_time')\n",
      "\n",
      "def parse_departure_time(x):\n",
      "    return datetime.datetime.strptime(x['departure_time'], '%H:%M:%S')\n",
      "\n",
      "def make_graph(tripIDs):\n",
      "    graph = networkx.MultiDiGraph()\n",
      "    for tripID in tripIDs:\n",
      "        tripStops = get_tripStops(tripID)\n",
      "        stopGenerator = tripStops.iterrows()\n",
      "        lastStop = stopGenerator.next()[1]\n",
      "        for index, thisStop in stopGenerator:\n",
      "            timedelta = parse_departure_time(thisStop) - parse_departure_time(lastStop)\n",
      "            minutes = timedelta.total_seconds() / 60.\n",
      "            graph.add_edge(lastStop['stop_name'], thisStop['stop_name'],\n",
      "                key=route5Trip['trip_id'],\n",
      "                weight=minutes)\n",
      "            lastStop = thisStop\n",
      "    return graph\n",
      "    \n",
      "graph = make_graph([\n",
      "    'A20120610WKD_101200_5..N04R',\n",
      "    'A20120610WKD_104200_6..N03R',\n",
      "])"
     ],
     "language": "python",
     "metadata": {},
     "outputs": [],
     "prompt_number": 18
    },
    {
     "cell_type": "code",
     "collapsed": false,
     "input": [
      "networkx.dijkstra_path(graph, 'Brooklyn Bridge - City Hall', '110 St')"
     ],
     "language": "python",
     "metadata": {},
     "outputs": [],
     "prompt_number": 19
    },
    {
     "cell_type": "code",
     "collapsed": false,
     "input": [
      "networkx.dijkstra_path_length(graph, 'Brooklyn Bridge - City Hall', '110 St')"
     ],
     "language": "python",
     "metadata": {},
     "outputs": [],
     "prompt_number": 20
    },
    {
     "cell_type": "code",
     "collapsed": false,
     "input": [
      "# Make a graph of the NYC MTA subway system\n",
      "tripIDs = []\n",
      "# For each route,\n",
      "for routeID, routeTrips in weekdayTrips.groupby('route_id'):\n",
      "    # Pick a trip\n",
      "    tripIDs.append(routeTrips.trip_id.values[0])\n",
      "graph = make_graph(tripIDs)"
     ],
     "language": "python",
     "metadata": {},
     "outputs": [],
     "prompt_number": 21
    },
    {
     "cell_type": "code",
     "collapsed": false,
     "input": [
      "# Which ten stations are the most connected?\n",
      "from pandas import Series\n",
      "Series(networkx.pagerank_numpy(graph)).order(ascending=False)[:10]"
     ],
     "language": "python",
     "metadata": {},
     "outputs": [],
     "prompt_number": 22
    }
   ],
   "metadata": {}
  }
 ]
}