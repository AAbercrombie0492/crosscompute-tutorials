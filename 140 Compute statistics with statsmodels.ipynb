{
 "metadata": {
  "name": "140 Compute statistics with statsmodels"
 },
 "nbformat": 3,
 "worksheets": [
  {
   "cells": [
    {
     "cell_type": "markdown",
     "source": [
      "# [Statsmodels](http://statsmodels.sourceforge.net) is a collection of statistical models, tests and tools"
     ]
    },
    {
     "cell_type": "markdown",
     "source": [
      "Usage example: Regression"
     ]
    },
    {
     "cell_type": "code",
     "input": [
      "# Adapted from",
      "# https://github.com/statsmodels/statsmodels/examples/example_ols_minimal.py",
      "import numpy as np",
      "import statsmodels.api as sm",
      "",
      "nsample = 100",
      "x = np.linspace(0, 10, 100)",
      "X = sm.add_constant(np.column_stack((x, x ** 2)))",
      "beta = np.array([1, 0.1, 10])",
      "y = np.dot(X, beta) + np.random.normal(size=nsample)",
      "",
      "results = sm.OLS(y, X).fit()",
      "print results.summary()"
     ],
     "language": "python",
     "outputs": [
      {
       "output_type": "stream",
       "stream": "stdout",
       "text": [
        "                            OLS Regression Results                            ",
        "==============================================================================",
        "Dep. Variable:                      y   R-squared:                       0.978",
        "Model:                            OLS   Adj. R-squared:                  0.977",
        "Method:                 Least Squares   F-statistic:                     2126.",
        "Date:                Mon, 04 Jun 2012   Prob (F-statistic):           7.82e-81",
        "Time:                        21:54:53   Log-Likelihood:                -129.91",
        "No. Observations:                 100   AIC:                             265.8",
        "Df Residuals:                      97   BIC:                             273.6",
        "Df Model:                           2                                         ",
        "==============================================================================",
        "                 coef    std err          t      P>|t|      [95.0% Conf. Int.]",
        "------------------------------------------------------------------------------",
        "x1             1.0654      0.122      8.703      0.000         0.822     1.308",
        "x2             0.0934      0.012      7.886      0.000         0.070     0.117",
        "const          9.9472      0.265     37.551      0.000         9.421    10.473",
        "==============================================================================",
        "Omnibus:                        8.641   Durbin-Watson:                   1.746",
        "Prob(Omnibus):                  0.013   Jarque-Bera (JB):                8.547",
        "Skew:                           0.592   Prob(JB):                       0.0139",
        "Kurtosis:                       3.805   Cond. No.                         144.",
        "==============================================================================",
        ""
       ]
      }
     ],
     "prompt_number": 2
    },
    {
     "cell_type": "code",
     "input": [
      "# -*- coding: utf-8 -*-",
      "\"\"\"Out of sample prediction",
      "\"\"\"",
      "",
      "import numpy as np",
      "import statsmodels.api as sm",
      "",
      "#Create some data",
      "",
      "nsample = 50",
      "sig = 0.25",
      "x1 = np.linspace(0, 20, nsample)",
      "X = np.c_[x1, np.sin(x1), (x1-5)**2, np.ones(nsample)]",
      "beta = [0.5, 0.5, -0.02, 5.]",
      "y_true = np.dot(X, beta)",
      "y = y_true + sig * np.random.normal(size=nsample)",
      "",
      "#Setup and estimate the model",
      "",
      "olsmod = sm.OLS(y, X)",
      "olsres = olsmod.fit()",
      "print olsres.params",
      "print olsres.bse",
      "",
      "#In-sample prediction",
      "",
      "ypred = olsres.predict(X)",
      "",
      "#Create a new sample of explanatory variables Xnew, predict and plot",
      "",
      "x1n = np.linspace(20.5,25, 10)",
      "Xnew = np.c_[x1n, np.sin(x1n), (x1n-5)**2, np.ones(10)]",
      "ynewpred =  olsres.predict(Xnew) # predict out of sample",
      "print ypred",
      "",
      "import matplotlib.pyplot as plt",
      "plt.figure()",
      "plt.plot(x1, y, 'o', x1, y_true, 'b-')",
      "plt.plot(np.hstack((x1, x1n)), np.hstack((ypred, ynewpred)),'r')",
      "#@savefig ols_predict.png",
      "plt.title('OLS prediction, blue: true and data, fitted/predicted values:red')"
     ],
     "language": "python",
     "outputs": []
    },
    {
     "cell_type": "markdown",
     "source": [
      "Usage example: Time series analysis"
     ]
    },
    {
     "cell_type": "code",
     "input": [
      "\"\"\"",
      "Using dates with timeseries models",
      "\"\"\"",
      "import statsmodels.api as sm",
      "import numpy as np",
      "import pandas",
      "",
      "# Getting started",
      "# ---------------",
      "",
      "data = sm.datasets.sunspots.load()",
      "",
      "# Right now an annual date series must be datetimes at the end of the year.",
      "",
      "from datetime import datetime",
      "dates = sm.tsa.datetools.dates_from_range('1700', length=len(data.endog))",
      "",
      "# Using Pandas",
      "# ------------",
      "",
      "# Make a pandas TimeSeries or DataFrame",
      "endog = pandas.TimeSeries(data.endog, index=dates)",
      "",
      "# and instantiate the model",
      "ar_model = sm.tsa.AR(endog, freq='A')",
      "pandas_ar_res = ar_model.fit(maxlag=9, method='mle', disp=-1)",
      "",
      "# Let's do some out-of-sample prediction",
      "pred = pandas_ar_res.predict(start='2005', end='2015')",
      "print pred",
      "",
      "# Using explicit dates",
      "# --------------------",
      "",
      "ar_model = sm.tsa.AR(data.endog, dates=dates, freq='A')",
      "ar_res = ar_model.fit(maxlag=9, method='mle', disp=-1)",
      "pred = ar_res.predict(start='2005', end='2015')",
      "print pred",
      "",
      "# This just returns a regular array, but since the model has date information",
      "# attached, you can get the prediction dates in a roundabout way.",
      "",
      "print ar_res._data.predict_dates",
      "",
      "# This attribute only exists if predict has been called. It holds the dates",
      "# associated with the last call to predict.",
      "#..TODO: should this be attached to the results instance?"
     ],
     "language": "python",
     "outputs": []
    },
    {
     "cell_type": "markdown",
     "source": [
      "Learn more",
      "",
      "- [Statsmodels documentation](http://statsmodels.sourceforge.net)",
      "- [Statsmodels examples](https://github.com/statsmodels/statsmodels/examples)"
     ]
    }
   ]
  }
 ]
}