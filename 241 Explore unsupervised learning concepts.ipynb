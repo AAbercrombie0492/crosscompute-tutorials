{
 "metadata": {
  "name": "241 Explore unsupervised learning concepts"
 },
 "nbformat": 3,
 "nbformat_minor": 0,
 "worksheets": [
  {
   "cells": [
    {
     "cell_type": "markdown",
     "metadata": {},
     "source": [
      "- Manifold learning\n",
      "- Clustering\n",
      "- Decomposition\n",
      "- Outlier detection\n",
      "- Hidden markov models"
     ]
    }
   ],
   "metadata": {}
  }
 ]
}